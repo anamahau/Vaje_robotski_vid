{
 "cells": [
  {
   "cell_type": "markdown",
   "metadata": {},
   "source": [
    "Before you turn this problem in, make sure everything runs as expected. First, **restart the kernel** (in the menubar, select Kernel$\\rightarrow$Restart) and then **run all cells** (in the menubar, select Cell$\\rightarrow$Run All).\n",
    "\n",
    "Make sure you fill in any place that says `YOUR CODE HERE` or \"YOUR ANSWER HERE\", as well as your name and collaborators below:"
   ]
  },
  {
   "cell_type": "code",
   "execution_count": 26,
   "metadata": {},
   "outputs": [],
   "source": [
    "NAME = \"Anamarija Hauptman\"\n",
    "COLLABORATORS = None\n",
    "\n",
    "import numpy as np\n",
    "import matplotlib.pyplot as plt\n",
    "import rvlib as rv\n",
    "import renderSurface"
   ]
  },
  {
   "cell_type": "markdown",
   "metadata": {},
   "source": [
    "---"
   ]
  },
  {
   "cell_type": "markdown",
   "metadata": {},
   "source": [
    "# Domača naloga 5: Geometrijske preslikave in poravnava oblik"
   ]
  },
  {
   "cell_type": "markdown",
   "metadata": {
    "deletable": false,
    "editable": false,
    "nbgrader": {
     "checksum": "52accfbca8008dbd6e2e8e932537da2e",
     "grade": false,
     "grade_id": "cell-668afc6778165bb9",
     "locked": true,
     "schema_version": 1,
     "solution": false
    }
   },
   "source": [
    "1. Izvedite poravnavo vseh 2D oblik `[1, 29]` v datoteki `data/letala.npy` na obliko z indeksom 0 z metodo iterativno najbližje točke. Izrišite v eno sliko vse 2D oblike v začetni legi, v drugo sliko pa vse oblike v poravnani legi. \n",
    "\n",
    " Za vsako poravnavo izračunajte napako pred poravnavo in po njej. V eno sliko narišite histogram vseh napak v začetni legi, v drugo sliko pa histogram napak v poravnani legi. Izpišite vrednost napake in indeks oblike, pri kateri dobite največjo in najmanjšo napako v začetni legi. Obliki tudi izrišite, zraven pa z drugo barvo dorišite še referenčno obliko. Enako naredite tudi za oblike po poravnavi."
   ]
  },
  {
   "cell_type": "markdown",
   "metadata": {
    "deletable": false,
    "editable": false,
    "nbgrader": {
     "checksum": "bfca0d8f689d3ede47d079036f5b21b9",
     "grade": false,
     "grade_id": "cell-dce5d487fcc9014e",
     "locked": true,
     "schema_version": 1,
     "solution": false
    }
   },
   "source": [
    "1. 1. Prikažite grafa originalnih in poravnanih oblik:"
   ]
  },
  {
   "cell_type": "code",
   "execution_count": 47,
   "metadata": {},
   "outputs": [
    {
     "name": "stdout",
     "output_type": "stream",
     "text": [
      "(30,)\n",
      "(1433, 2)\n",
      "[ 38 237]\n"
     ]
    }
   ],
   "source": [
    "letala = np.load('data/letala.npy', allow_pickle=True)\n",
    "letalo0 = letala[0]\n",
    "print(letala.shape)\n",
    "print(letala[0].shape)\n",
    "print(letala[1][0])"
   ]
  },
  {
   "cell_type": "code",
   "execution_count": null,
   "metadata": {
    "deletable": false,
    "nbgrader": {
     "checksum": "0e80d4ede80c5627a65b6499d3afcc03",
     "grade": true,
     "grade_id": "cell-73b3f6948de1dec6",
     "locked": false,
     "points": 1,
     "schema_version": 1,
     "solution": true
    }
   },
   "outputs": [],
   "source": []
  },
  {
   "cell_type": "markdown",
   "metadata": {
    "deletable": false,
    "editable": false,
    "nbgrader": {
     "checksum": "73557e67e9bcc6c6dca7b4bb7167f709",
     "grade": false,
     "grade_id": "cell-a4be8af8c49e66df",
     "locked": true,
     "schema_version": 1,
     "solution": false
    }
   },
   "source": [
    "1. 2. Za vsako poravnano sliko izračunajte napako pred poravnavo in po njej. Narišite histogram vseh napak v začetni legi in histogram napak v poravnani legi."
   ]
  },
  {
   "cell_type": "code",
   "execution_count": null,
   "metadata": {
    "deletable": false,
    "nbgrader": {
     "checksum": "73774ae8062078c76bc9a05171caa496",
     "grade": true,
     "grade_id": "cell-00da916f01adbd5d",
     "locked": false,
     "points": 1,
     "schema_version": 1,
     "solution": true
    }
   },
   "outputs": [],
   "source": []
  },
  {
   "cell_type": "code",
   "execution_count": null,
   "metadata": {},
   "outputs": [],
   "source": [
    "\n"
   ]
  },
  {
   "cell_type": "markdown",
   "metadata": {
    "deletable": false,
    "editable": false,
    "nbgrader": {
     "checksum": "9e3fa51a2fac7f262b2f3429b34083e6",
     "grade": false,
     "grade_id": "cell-f691b728f9723791",
     "locked": true,
     "schema_version": 1,
     "solution": false
    }
   },
   "source": [
    "1. 3. Izpišite vrednost napake in indeks oblike, pri kateri dobite največjo in najmanjšo napako v začetni legi. Obliki tudi izrišite, zraven pa z drugo barvo dorišite še referenčno obliko. Enako naredite tudi za oblike po poravnavi."
   ]
  },
  {
   "cell_type": "code",
   "execution_count": null,
   "metadata": {
    "deletable": false,
    "nbgrader": {
     "checksum": "8e3b8d6f57d96a755609e7bde2a380d7",
     "grade": true,
     "grade_id": "cell-f61ed64ec01ca0a4",
     "locked": false,
     "points": 1,
     "schema_version": 1,
     "solution": true
    }
   },
   "outputs": [],
   "source": []
  },
  {
   "cell_type": "code",
   "execution_count": null,
   "metadata": {},
   "outputs": [],
   "source": []
  },
  {
   "cell_type": "markdown",
   "metadata": {
    "deletable": false,
    "editable": false,
    "nbgrader": {
     "checksum": "2eb5dbdda5bbb6d58dbfec0f42e13586",
     "grade": false,
     "grade_id": "cell-d7f59cf2eaa0cacb",
     "locked": true,
     "schema_version": 1,
     "solution": false
    }
   },
   "source": [
    "2. Naložite poljubno obliko iz dane zbirke in načrtajte ustrezno zaporedje 2D linearnih preslikav tako, da se bo oblika rotirala okoli svojega središča. Prikažite delovanje preslikave tako, da obliko rotirate od $0 - 360^{\\circ}$ s korakom $5^{\\circ}$ ter hkrati prikazujete točke oblike v istem prikaznem oknu. Za vsak korak z metodo iterativno najbližje točke poravnajte rotirano obliko v nerotirano obliko (kot $0^{\\circ}$). Ali je poravnava uspešna za vse rotacije? Pokažite tako, da za vsak korak izračunate napako kot povprečno razdaljo med istoindeksiranimi točkami v referenčni in poravnani obliki. Napako prikažite na grafu v odvisnosti od kota rotacije."
   ]
  },
  {
   "cell_type": "markdown",
   "metadata": {
    "deletable": false,
    "editable": false,
    "nbgrader": {
     "checksum": "418197c41398ce8808e62d3dbfc02eb4",
     "grade": false,
     "grade_id": "cell-543723f9a318bab9",
     "locked": true,
     "schema_version": 1,
     "solution": false
    }
   },
   "source": [
    "2. 1. Rotirajte obliko okrog svojeg središča od 0 do 360 stopinj in prikazujte točke oblike v istem prikaznem oknu:"
   ]
  },
  {
   "cell_type": "markdown",
   "metadata": {},
   "source": [
    "Da se bo oblika rotirala okoli svojega središča jo je potrebno najprej translirati v izhodišče (0,0), nato rotirati in končno translirati nazaj v originalno \"središče\"."
   ]
  },
  {
   "cell_type": "code",
   "execution_count": null,
   "metadata": {
    "deletable": false,
    "nbgrader": {
     "checksum": "e9110e8139e42275d41d5aca89058728",
     "grade": true,
     "grade_id": "cell-fd5822dcc2b33152",
     "locked": false,
     "points": 1,
     "schema_version": 1,
     "solution": true
    }
   },
   "outputs": [],
   "source": []
  },
  {
   "cell_type": "markdown",
   "metadata": {
    "deletable": false,
    "editable": false,
    "nbgrader": {
     "checksum": "6572ce37c8a2a026decd1c43de1eeef1",
     "grade": false,
     "grade_id": "cell-74ba75384d425dcb",
     "locked": true,
     "schema_version": 1,
     "solution": false
    }
   },
   "source": [
    "2. 2. Za vsak korak z metodo iterativno najbližje točke poravnajte rotirano obliko v nerotirano obliko (kot $0^{\\circ}$)."
   ]
  },
  {
   "cell_type": "code",
   "execution_count": null,
   "metadata": {
    "deletable": false,
    "nbgrader": {
     "checksum": "d8c01f25252e45681667bfe75d39ddfa",
     "grade": true,
     "grade_id": "cell-19d543545cddd48f",
     "locked": false,
     "points": 1,
     "schema_version": 1,
     "solution": true
    }
   },
   "outputs": [],
   "source": [
    "\n",
    "    "
   ]
  },
  {
   "cell_type": "markdown",
   "metadata": {},
   "source": [
    "2. 3. Ali je poravnava uspešna za vse rotacije? Pokažite tako, da za vsak korak izračunate napako kot povprečno razdaljo med istoindeksiranimi točkami v referenčni in poravnani obliki. Napako prikažite na grafu v odvisnosti od kota rotacije."
   ]
  },
  {
   "cell_type": "code",
   "execution_count": null,
   "metadata": {
    "deletable": false,
    "nbgrader": {
     "checksum": "87baaf99d4f25421acf8b460847cf8de",
     "grade": true,
     "grade_id": "cell-09530dfac4a7a90b",
     "locked": false,
     "points": 1,
     "schema_version": 1,
     "solution": true
    }
   },
   "outputs": [],
   "source": []
  },
  {
   "cell_type": "markdown",
   "metadata": {
    "deletable": false,
    "editable": false,
    "nbgrader": {
     "checksum": "c206dcd92e2622140f2e603578d01436",
     "grade": false,
     "grade_id": "cell-b04b7bb2d8f15f78",
     "locked": true,
     "schema_version": 1,
     "solution": false
    }
   },
   "source": [
    "3. Napišite funkcijo, ki ustvari $4 \\times 4$ matriko poljubne 3D afine preslikave:\n",
    "```python\n",
    "    def transAffine3D( iScale, iTrans, iRot, iShear ):\n",
    "\t  \treturn oMat3D\n",
    "```\n",
    " kjer je `iScale` trivrstični vektor s parametri skale $k_x,\\,k_y$ in $k_z$, `iTrans` trivrstični vektor s parametri translacije $t_x,\\,t_y$ in $t_z$, `iRot` trivrstični vektor s koti rotacije $\\alpha,\\,\\beta$ in $\\gamma$ v stopinjah in `iShear` šestvrstični vektor s parametri striga $g_{xy},\\,g_{xz},\\,g_{yx},\\,g_{zx},\\,g_{zy},\\,g_{yz}$. Funkcija vrne homogeno matriko `oMat3D`, ki ima dimenzije $4 \\times 4$. Preverite delovanje funkcije na 3D oblikah v datoteki `data/glave.npy` tako, da točke izbrane oblike preslikate s poljubnimi parametri striga, rotacije, translacije in skaliranja, nato pa še s poljubno 3D afino preslikavo. Vhodne in preslikane točke oblike prikažite z dano funkcijo `renderSurface.py`.\n",
    "\n",
    " Izbrano obliko rotirajte za $180^{\\circ}$ okrog svojega središča in okrog poljubne osi. Prikažite glavo pred in po poravnavi.\n",
    " \n",
    " Namig: Vseh pet 3D oblik naložite z ukazom `glave = numpy.load('data/glave.npy')`. 3D oblike so zapisane v seznamu tipa `list`, točke prve oblike dobite z ukazom `x = glave[0]` "
   ]
  },
  {
   "cell_type": "markdown",
   "metadata": {
    "deletable": false,
    "editable": false,
    "nbgrader": {
     "checksum": "8eabe6a7eb6d724418add50bd521284c",
     "grade": false,
     "grade_id": "cell-d9ae45ee4f406ee4",
     "locked": true,
     "schema_version": 1,
     "solution": false
    }
   },
   "source": [
    "3. 1. Implementirajte funkcijo `transAffine3D`:"
   ]
  },
  {
   "cell_type": "code",
   "execution_count": 23,
   "metadata": {
    "deletable": false,
    "nbgrader": {
     "checksum": "867aa72e32041de7834c2c122fc3cedb",
     "grade": true,
     "grade_id": "cell-9606f89bdc4f87ce",
     "locked": false,
     "points": 3,
     "schema_version": 1,
     "solution": true
    }
   },
   "outputs": [],
   "source": [
    "def transaffine3D(iScale:tuple=(1, 1, 1), iTrans:tuple=(0, 0, 0), iRot:tuple=(0, 0, 0), iShear:tuple=(0, 0, 0, 0, 0, 0)):\n",
    "    oMatScale = np.array([[iScale[0],         0,         0, 0],\n",
    "                          [        0, iScale[1],         0, 0],\n",
    "                          [        0,         0, iScale[2], 0],\n",
    "                          [        0,         0,         0, 1]])\n",
    "    oMatTrans = np.array([[1, 0, 0, iTrans[0]],\n",
    "                          [0, 1, 0, iTrans[1]],\n",
    "                          [0, 0, 1, iTrans[2]],\n",
    "                          [0, 0, 0,         1]])\n",
    "    cA = np.cos(iRot[0])\n",
    "    cB = np.cos(iRot[1])\n",
    "    cG = np.cos(iRot[2])\n",
    "    sA = np.sin(iRot[0])\n",
    "    sB = np.sin(iRot[1])\n",
    "    sG = np.sin(iRot[2])\n",
    "    oMatRot = np.array([[ cB*cG, cA*sG+sA*sB*cG, sA*sG-cA*sB*cG, 0],\n",
    "                        [-cB*sG, cA*cG-sA*sB*sG, sA*cG+cA*sB*sG, 0],\n",
    "                        [    sB,         -sA*cB,          cA*cB, 0],\n",
    "                        [     0,              0,              0, 1]])\n",
    "    #iShear = (g_xy, g_xz, g_yx, g_yz, g_zx, g_zy)\n",
    "    oMatShear = np.array([[        1, iShear[0], iShear[1], 0],\n",
    "                          [iShear[2],         1, iShear[3], 0],\n",
    "                          [iShear[4], iShear[5],         1, 0],\n",
    "                          [        0,         0,         0, 1]])\n",
    "    oMat3D = np.dot(oMatTrans, np.dot(oMatShear, np.dot(oMatRot, oMatScale)))\n",
    "    return oMat3D"
   ]
  },
  {
   "cell_type": "code",
   "execution_count": 55,
   "metadata": {
    "deletable": false,
    "editable": false,
    "nbgrader": {
     "checksum": "8dc9940529db691d753496e0a81191ba",
     "grade": false,
     "grade_id": "cell-adeb6bf6610d9a9c",
     "locked": true,
     "schema_version": 1,
     "solution": false
    }
   },
   "outputs": [
    {
     "ename": "TypeError",
     "evalue": "'module' object is not callable",
     "output_type": "error",
     "traceback": [
      "\u001b[1;31m---------------------------------------------------------------------------\u001b[0m",
      "\u001b[1;31mTypeError\u001b[0m                                 Traceback (most recent call last)",
      "Cell \u001b[1;32mIn[55], line 3\u001b[0m\n\u001b[0;32m      1\u001b[0m \u001b[38;5;66;03m# Primer uporabe funkcije renderSurface\u001b[39;00m\n\u001b[0;32m      2\u001b[0m glave \u001b[38;5;241m=\u001b[39m np\u001b[38;5;241m.\u001b[39mload(\u001b[38;5;124m'\u001b[39m\u001b[38;5;124mdata/glave.npy\u001b[39m\u001b[38;5;124m'\u001b[39m, allow_pickle\u001b[38;5;241m=\u001b[39m\u001b[38;5;28;01mTrue\u001b[39;00m)\n\u001b[1;32m----> 3\u001b[0m \u001b[43mrenderSurface\u001b[49m\u001b[43m(\u001b[49m\u001b[43mglave\u001b[49m\u001b[43m[\u001b[49m\u001b[38;5;241;43m0\u001b[39;49m\u001b[43m]\u001b[49m\u001b[43m[\u001b[49m\u001b[38;5;241;43m0\u001b[39;49m\u001b[43m]\u001b[49m\u001b[43m,\u001b[49m\u001b[43m \u001b[49m\u001b[43mglave\u001b[49m\u001b[43m[\u001b[49m\u001b[38;5;241;43m0\u001b[39;49m\u001b[43m]\u001b[49m\u001b[43m[\u001b[49m\u001b[38;5;241;43m1\u001b[39;49m\u001b[43m]\u001b[49m\u001b[43m,\u001b[49m\u001b[43m \u001b[49m\u001b[43mglave\u001b[49m\u001b[43m[\u001b[49m\u001b[38;5;241;43m0\u001b[39;49m\u001b[43m]\u001b[49m\u001b[43m[\u001b[49m\u001b[38;5;241;43m2\u001b[39;49m\u001b[43m]\u001b[49m\u001b[43m)\u001b[49m\n",
      "\u001b[1;31mTypeError\u001b[0m: 'module' object is not callable"
     ]
    }
   ],
   "source": [
    "# Primer uporabe funkcije renderSurface\n",
    "glave = np.load('data/glave.npy', allow_pickle=True)\n",
    "renderSurface(glave[0][0], glave[0][1], glave[0][2])"
   ]
  },
  {
   "cell_type": "markdown",
   "metadata": {
    "deletable": false,
    "editable": false,
    "nbgrader": {
     "checksum": "13d73092dfe2724e4469598ad8bfea2b",
     "grade": false,
     "grade_id": "cell-dceaee547275ec98",
     "locked": true,
     "schema_version": 1,
     "solution": false
    }
   },
   "source": [
    "3. 2. Preverite delovanje funkcije na 3D oblikah v datoteki `data/glave.npy` tako, da točke izbrane oblike preslikate s poljubnimi parametri striga, rotacije, translacije in skaliranja, nato pa še s poljubno 3D afino preslikavo. Vhodne in preslikane točke oblike prikažite z dano funkcijo `renderSurface.py`."
   ]
  },
  {
   "cell_type": "code",
   "execution_count": null,
   "metadata": {},
   "outputs": [],
   "source": []
  },
  {
   "cell_type": "code",
   "execution_count": null,
   "metadata": {},
   "outputs": [],
   "source": []
  },
  {
   "cell_type": "code",
   "execution_count": null,
   "metadata": {
    "deletable": false,
    "nbgrader": {
     "checksum": "b4705cc64cd4ec2896d24f7353483509",
     "grade": true,
     "grade_id": "cell-1965ab876ac02633",
     "locked": false,
     "points": 1,
     "schema_version": 1,
     "solution": true
    }
   },
   "outputs": [],
   "source": []
  },
  {
   "cell_type": "code",
   "execution_count": null,
   "metadata": {},
   "outputs": [],
   "source": []
  },
  {
   "cell_type": "code",
   "execution_count": null,
   "metadata": {},
   "outputs": [],
   "source": []
  },
  {
   "cell_type": "markdown",
   "metadata": {
    "deletable": false,
    "editable": false,
    "nbgrader": {
     "checksum": "1d29eac889070c1ac0fb5b7ba89362c3",
     "grade": false,
     "grade_id": "cell-46d71789096761ee",
     "locked": true,
     "schema_version": 1,
     "solution": false
    }
   },
   "source": [
    "3. 3. Izbrano obliko rotirajte za $180^{\\circ}$ okrog svojega središča in okrog poljubne osi. Prikažite glavo pred in po poravnavi."
   ]
  },
  {
   "cell_type": "code",
   "execution_count": null,
   "metadata": {
    "deletable": false,
    "nbgrader": {
     "checksum": "44b44684dcf990ad4a130fb5c4e8431b",
     "grade": true,
     "grade_id": "cell-e6b457cb56d43a92",
     "locked": false,
     "points": 1,
     "schema_version": 1,
     "solution": true
    }
   },
   "outputs": [],
   "source": []
  },
  {
   "cell_type": "markdown",
   "metadata": {
    "deletable": false,
    "editable": false,
    "nbgrader": {
     "checksum": "29f63c142d41c137c7527470c1ce23e4",
     "grade": false,
     "grade_id": "cell-f2b07213c7d86301",
     "locked": true,
     "schema_version": 1,
     "solution": false
    }
   },
   "source": [
    "4. 1. Napišite funkcijo za poravnavo dveh 3D oblik z metodo iterativno najbližje točke (ICP):\n",
    "```python\n",
    "    def alignICP3D( iPtsRef, iPtsMov, iEps, iMaxIter ):\n",
    "        return oMat3D, oErr\n",
    "```\n",
    "kjer sta `iPtsRef` in `iPtsMov` matriki s koordinatami referenčnih in premičnih točk. Matriki imata dimenziji $K_R \\times 3$ in $K_M \\times 3$. `iEps` in `iMaxIter` določata pogoje za zaustavitev postopka, kjer je `iEps` najmanjša sprememba parametrov preslikave, `iMaxIter` pa maksimalno število korakov $k_{max}$. V funkciji uporabite 3D afino aproksimacijsko poravnavo, funkcija pa naj vrne optimalno 3D afino preslikavo med referenčnimi in premičnimi točkami v obliki homogene matrike `oMat3D` in vektor `oErr`, ki podaja napako $\\Sigma^2$ med korespondenčnimi točkami v vsakem koraku metode ICP. "
   ]
  },
  {
   "cell_type": "code",
   "execution_count": null,
   "metadata": {
    "deletable": false,
    "nbgrader": {
     "checksum": "cf44794c4ced302c0e607a680d870a9d",
     "grade": true,
     "grade_id": "cell-a0e485b051ae9740",
     "locked": false,
     "points": 5,
     "schema_version": 1,
     "solution": true
    }
   },
   "outputs": [],
   "source": [
    "def alignICP3D(iPtsRef, iPtsMov, iEps, iMaxIter):\n",
    "    return"
   ]
  },
  {
   "cell_type": "markdown",
   "metadata": {
    "deletable": false,
    "editable": false,
    "nbgrader": {
     "checksum": "1c8cf0f7ce93d7a5956be545cd59e98a",
     "grade": false,
     "grade_id": "cell-81efe32979b6fd84",
     "locked": true,
     "schema_version": 1,
     "solution": false
    }
   },
   "source": [
    "4. 2. Preverite pravilnost delovanja funkcije tako, da vse točke izbrane oblike preslikate s poljubnimi parametri 3D afine preslikave in preverite ali funkcija vrne preslikavo v `oMat3D`, ki je podobna dani vaši 3D afini preslikavi in da je končna napaka `oErr` manjša od začetne napake in približno enaka 0. Naložite referenčne in premične točke dveh poljubnih, a različnih oblik iz dane zbirke glav in preverite, da funkcija obliki ustrezno poravna."
   ]
  },
  {
   "cell_type": "code",
   "execution_count": null,
   "metadata": {
    "deletable": false,
    "nbgrader": {
     "checksum": "0bddfe660bf2d2f8caa661f68898485e",
     "grade": true,
     "grade_id": "cell-47d6836d2f85860e",
     "locked": false,
     "points": 3,
     "schema_version": 1,
     "solution": true
    }
   },
   "outputs": [],
   "source": []
  },
  {
   "cell_type": "code",
   "execution_count": null,
   "metadata": {},
   "outputs": [],
   "source": []
  },
  {
   "cell_type": "markdown",
   "metadata": {
    "deletable": false,
    "editable": false,
    "nbgrader": {
     "checksum": "13705dddd56949dc5a0e349630e21e1b",
     "grade": false,
     "grade_id": "cell-1878c8ed42e76e8d",
     "locked": true,
     "schema_version": 1,
     "solution": false
    }
   },
   "source": [
    "4. 3. Izvedite poravnavo vseh 3D oblik `[1, 4]` na obliko z indeksom 0. Izpišite najmanjšo in največjo vrednost napake `oErr` pred poravnavno in po njej."
   ]
  },
  {
   "cell_type": "code",
   "execution_count": null,
   "metadata": {
    "deletable": false,
    "nbgrader": {
     "checksum": "448bdd590f4821301cb23d3a2cbc9752",
     "grade": true,
     "grade_id": "cell-333d431b3dce1d93",
     "locked": false,
     "points": 2,
     "schema_version": 1,
     "solution": true
    }
   },
   "outputs": [],
   "source": []
  },
  {
   "cell_type": "code",
   "execution_count": null,
   "metadata": {},
   "outputs": [],
   "source": []
  }
 ],
 "metadata": {
  "kernelspec": {
   "display_name": "Python 3",
   "language": "python",
   "name": "python3"
  },
  "language_info": {
   "codemirror_mode": {
    "name": "ipython",
    "version": 3
   },
   "file_extension": ".py",
   "mimetype": "text/x-python",
   "name": "python",
   "nbconvert_exporter": "python",
   "pygments_lexer": "ipython3",
   "version": "3.10.10"
  }
 },
 "nbformat": 4,
 "nbformat_minor": 2
}
