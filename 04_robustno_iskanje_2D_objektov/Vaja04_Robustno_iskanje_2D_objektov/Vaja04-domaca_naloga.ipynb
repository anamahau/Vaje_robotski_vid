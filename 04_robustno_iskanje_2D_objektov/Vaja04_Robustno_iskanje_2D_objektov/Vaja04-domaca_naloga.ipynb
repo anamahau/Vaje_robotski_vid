{
 "cells": [
  {
   "cell_type": "markdown",
   "metadata": {},
   "source": [
    "Before you turn this problem in, make sure everything runs as expected. First, **restart the kernel** (in the menubar, select Kernel$\\rightarrow$Restart) and then **run all cells** (in the menubar, select Cell$\\rightarrow$Run All).\n",
    "\n",
    "Make sure you fill in any place that says `YOUR CODE HERE` or \"YOUR ANSWER HERE\", as well as your name and collaborators below:"
   ]
  },
  {
   "cell_type": "code",
   "execution_count": null,
   "metadata": {},
   "outputs": [],
   "source": [
    "NAME = \"Anamarija Hauptman\"\n",
    "COLLABORATORS = \"\""
   ]
  },
  {
   "cell_type": "markdown",
   "metadata": {},
   "source": [
    "---"
   ]
  },
  {
   "cell_type": "markdown",
   "metadata": {
    "deletable": false,
    "editable": false,
    "nbgrader": {
     "checksum": "603eb316fc0de1ea0215e9385c64a2f1",
     "grade": false,
     "grade_id": "cell-018c930ef9b325e9",
     "locked": true,
     "schema_version": 1,
     "solution": false
    }
   },
   "source": [
    "# Domača naloga 4: Robustno iskanje 2D objektov"
   ]
  },
  {
   "cell_type": "markdown",
   "metadata": {
    "deletable": false,
    "editable": false,
    "nbgrader": {
     "checksum": "1215b098100459c83d92fded8d1e3735",
     "grade": false,
     "grade_id": "cell-09c5d7c49daf2fc2",
     "locked": true,
     "schema_version": 1,
     "solution": false
    }
   },
   "source": [
    "1. Zgornji in spodnji prag za povezovanje robov pri Canny-jevem detektorju robov lahko avtomatsko izračunamo na podlagi statistične analize sivin v sliki. Napišite funkcijo za detekticijo robov, ki avtomatsko izračuna spodnji in zgornji prag za povezovanje robov in ju nato uporabi za detekcijo s Cannyjevim detektorjem. Z uporabo vhodne spremenljivke `thr_type` ločite med dvema načinoma določanja pragov:\n",
    "\n",
    "  * `thr_type = 1`:\n",
    "    $$ T_L = \\max{(0, (1 - \\sigma) m)} $$\n",
    "    $$ T_H = \\min{(255, (1 + \\sigma) m)} $$\n",
    "\n",
    "  * `thr_type = 2`:\n",
    "    $$ T_L = T_O/2 $$\n",
    "    $$ T_H = T_O $$\n",
    "\n",
    "  kjer je $m$ mediana sivin v sliki, $\\sigma=1/3$ in $T_O$ je prag pridobljen z Otsu upragovljanjem. Otsu upragovljanje avtomatsko določi prag, ki najbolje razmeji sliko na dva dela. Funkcijo poiščite v knjižnici OpenCV. Na treh lastno poiskanih slikah, ki imajo različne zahtevnosti določanja robov, primerjajte oba avtomatska načina izbire z ročno izbranima pragovoma, ki najbolje izluščita rob. Prikažite slike in izračunane slike robov, komentirajte rezultate in uspešnost avtomatskih postopkov."
   ]
  },
  {
   "cell_type": "markdown",
   "metadata": {
    "deletable": false,
    "editable": false,
    "nbgrader": {
     "checksum": "5c974bf74258322682ae7ab02c0890a1",
     "grade": false,
     "grade_id": "cell-15749f0235d60311",
     "locked": true,
     "schema_version": 1,
     "solution": false
    }
   },
   "source": [
    "Implementirajte funkcijo `canny`:"
   ]
  },
  {
   "cell_type": "code",
   "execution_count": null,
   "metadata": {},
   "outputs": [],
   "source": [
    "import numpy as np\n",
    "import cv2 as cv\n",
    "from rvlib import showImage, gammaImage\n",
    "import matplotlib.pyplot as plt\n",
    "\n",
    "imgG = cv.imread('data/slika1.jpg', 0) # s parametrom 0 loadamo grayscale"
   ]
  },
  {
   "cell_type": "code",
   "execution_count": null,
   "metadata": {
    "deletable": false,
    "nbgrader": {
     "checksum": "32a97cf2a16e5f567367433112987a47",
     "grade": true,
     "grade_id": "cell-8affa5d45dc8317e",
     "locked": false,
     "points": 3,
     "schema_version": 1,
     "solution": true
    }
   },
   "outputs": [],
   "source": [
    "def cornersDetector(iImage, thr_type=1):\n",
    "    iImage = cv.cvtColor(iImage, cv.COLOR_BGR2GRAY)\n",
    "    if thr_type == 1:\n",
    "        sigma = 1/3\n",
    "        m = np.mean(iImage)\n",
    "        T_l = np.max([0, int((1 - sigma) * m)])\n",
    "        T_h = np.min([255, int((1 + sigma) * m)])\n",
    "    elif thr_type == 2:\n",
    "        T_O, _ = cv.threshold(iImage, 0, 255, cv.THRESH_BINARY + cv.THRESH_OTSU)\n",
    "        T_l = T_O / 2\n",
    "        T_h = T_O\n",
    "    else:\n",
    "        return np.zeros_like(iImage)\n",
    "    oImage = cv.Canny(iImage, T_l, T_h)\n",
    "    #print(T_l, T_h)\n",
    "    return oImage"
   ]
  },
  {
   "cell_type": "markdown",
   "metadata": {},
   "source": [
    "Prikažite originale izbranih slik in izračunane slike robov na oba načina (`thr_type = 1` in `thr_type = 2`):"
   ]
  },
  {
   "cell_type": "code",
   "execution_count": null,
   "metadata": {
    "deletable": false,
    "nbgrader": {
     "checksum": "c296924d5dd0bf3aa5a0dd1ecc37848a",
     "grade": true,
     "grade_id": "cell-e156b2b233d35702",
     "locked": false,
     "points": 1,
     "schema_version": 1,
     "solution": true
    },
    "scrolled": true
   },
   "outputs": [],
   "source": [
    "\n",
    "img1 = cv.imread('data/slika1.jpg')\n",
    "edges1_1 = cornersDetector(img1, thr_type=1)\n",
    "edges1_2 = cornersDetector(img1, thr_type=2)\n",
    "\n",
    "fig, axs = plt.subplots(1, 2, figsize=(10, 8))\n",
    "axs[0].set_title('thr_type=1')\n",
    "axs[0].imshow(edges1_1, cmap='gray')\n",
    "axs[1].set_title('thr_type=2')\n",
    "axs[1].imshow(edges1_2, cmap='gray')\n",
    "plt.tight_layout()\n",
    "plt.show()"
   ]
  },
  {
   "cell_type": "code",
   "execution_count": null,
   "metadata": {},
   "outputs": [],
   "source": [
    "img2 = cv.imread('data/slika2.jpg')\n",
    "edges2_1 = cornersDetector(img2, thr_type=1)\n",
    "edges2_2 = cornersDetector(img2, thr_type=2)\n",
    "\n",
    "fig, axs = plt.subplots(1, 2, figsize=(10, 8))\n",
    "axs[0].set_title('thr_type=1')\n",
    "axs[0].imshow(edges2_1, cmap='gray')\n",
    "axs[1].set_title('thr_type=2')\n",
    "axs[1].imshow(edges2_2, cmap='gray')\n",
    "plt.tight_layout()\n",
    "plt.show()"
   ]
  },
  {
   "cell_type": "code",
   "execution_count": null,
   "metadata": {},
   "outputs": [],
   "source": [
    "img3 = cv.imread('data/slika3.jpg')\n",
    "edges3_1 = cornersDetector(img3, thr_type=1)\n",
    "edges3_2 = cornersDetector(img3, thr_type=2)\n",
    "\n",
    "fig, axs = plt.subplots(1, 2, figsize=(10, 8))\n",
    "axs[0].set_title('thr_type=1')\n",
    "axs[0].imshow(edges3_1, cmap='gray')\n",
    "axs[1].set_title('thr_type=2')\n",
    "axs[1].imshow(edges3_2, cmap='gray')\n",
    "plt.tight_layout()\n",
    "plt.show()"
   ]
  },
  {
   "cell_type": "markdown",
   "metadata": {},
   "source": [
    "Komentirajte rezultate in uspešnost avtomatskih postopkov:"
   ]
  },
  {
   "cell_type": "markdown",
   "metadata": {
    "deletable": false,
    "nbgrader": {
     "checksum": "e72cd1361940abc104398488a5e8b58e",
     "grade": true,
     "grade_id": "cell-e9f0d3827f61a750",
     "locked": false,
     "points": 3,
     "schema_version": 1,
     "solution": true
    }
   },
   "source": []
  },
  {
   "cell_type": "markdown",
   "metadata": {
    "deletable": false,
    "editable": false,
    "nbgrader": {
     "checksum": "3405e91ecdd582743e0dc1d6e86ceb09",
     "grade": false,
     "grade_id": "cell-7f3d630c14170889",
     "locked": true,
     "schema_version": 1,
     "solution": false
    }
   },
   "source": [
    "2. Na vajah smo si pogledali Houghovo transformacijo za detekcijo premic v sliki. Na podoben način lahko detektiramo tudi okrogle strukture na sliki. Naložite sliko `data/slika4.jpg` barvnih kroglic, jo zgladite z Gaussovim filtrom iz knjižnice OpenCV z velikosto jedra $3 \\times 3$, ter nato uporabite OpenCV funkcijo `HoughCircles` za detekcijo središč in radijev krožnic. Kot rezultat detekcije na originalno sliko superponirajte narisane krožnice (funkcija `circle`) detektiranih kroglic. Število detektiranih kroglic tudi izpišite. Na podlagi barvnega tona (iz $HSV$ prostora) središča krožnice avtomatsko preštejte število kroglic vsake barve. Opozorilo: funkcija `HoughCircles` že sama uporabi Cannyjev detektor robov, pragova pa podate kot parametra `param1` in `param2`, zato je vhodna slika v funkcijo sivinska slika in ne slika robov kot je bilo to na vajah. Pravilno izbiro pragov pa vseeno poiščite s klicem funkcije `Canny` in prikazom njenega rezultata."
   ]
  },
  {
   "cell_type": "code",
   "execution_count": null,
   "metadata": {},
   "outputs": [],
   "source": [
    "import cv2 as cv\n",
    "from rvlib import showImage\n",
    "import numpy as np\n",
    "\n",
    "# Glajenje\n",
    "img4 = cv.imread('data/slika4.jpg')\n",
    "img4 = cv.cvtColor(img4, cv.COLOR_BGR2RGB)\n",
    "blured_img4 = cv.GaussianBlur(img4, (3, 3), cv.BORDER_DEFAULT)\n",
    "blured_img4 = cv.cvtColor(blured_img4, cv.COLOR_RGB2GRAY)\n",
    "img4_circles = np.copy(img4)\n",
    "hsv_img4 = cv.cvtColor(img4, cv.COLOR_RGB2HSV)\n",
    "\n",
    "#circles = cv.HoughCircles(blured_img4, cv.HOUGH_GRADIENT_ALT, 1, 20, param1=150, param2=0.9, minRadius=30, maxRadius=50)\n",
    "circles = cv.HoughCircles(blured_img4, cv.HOUGH_GRADIENT, 1, 15, param1=108, param2=20, minRadius=30, maxRadius=50)\n",
    "#print('circles:', circles)\n",
    "circles = np.uint16(np.around(circles))\n",
    "\n",
    "o = 0 #oranzna\n",
    "r = 0 #rumena\n",
    "z = 0 #zelena\n",
    "m = 0 #modra\n",
    "\n",
    "'''\n",
    "zelena: 140 - 170\n",
    "oranžna: 5 - 20\n",
    "rumena: 45 - 60\n",
    "modra: 210 - 220\n",
    "\n",
    "                T_l     T_h\n",
    "thr_type=1      64      128\n",
    "thr_type=2      54.0    108.0\n",
    "'''\n",
    "\n",
    "for i in circles[0, :]:\n",
    "    cv.circle(img4_circles, (i[0], i[1]), i[2], (0, 0, 0), 2)\n",
    "    #cv.circle(img4_circles, (i[0], i[1]), 2, (0, 0, 255), 3)\n",
    "    if (i[0] <= img4.shape[0] and i[1] <= img4.shape[1]):\n",
    "        h = hsv_img4[i[0], i[1]][0]\n",
    "    elif (i[0] > img4.shape[0]):\n",
    "        h = hsv_img4[img4.shape[0] - 1, i[1]][0]\n",
    "    elif (i[1] > img4.shape[1]):\n",
    "        h = hsv_img4[i[0], img4.shape[1] - 1][0]\n",
    "    else:\n",
    "        h = 0\n",
    "    if (h >= 1 and h <= 30):\n",
    "        o += 1\n",
    "    elif (h >= 35 and h <= 70):\n",
    "        r += 1\n",
    "    elif (h >= 130 and h <= 180):\n",
    "        z += 1\n",
    "    elif (h >= 200 and h <= 230):\n",
    "        m += 1\n",
    "print('stevilo detektiranih kroglic:', len(circles[0, :]))\n",
    "print('oranzne kroglice: ' + str(o) + ', rumene kroglice: ' + str(r) + ', zelene kroglice: ' + str(z) + ', modre kroglice: ' + str(m))\n",
    "\n",
    "fig, axs = plt.subplots(1, 3, figsize=(12, 8))\n",
    "axs[0].set_title('Originalna slika')\n",
    "axs[0].imshow(img4)\n",
    "axs[1].set_title('Zglajena slika')\n",
    "axs[1].imshow(blured_img4, cmap='gray')\n",
    "axs[2].set_title('Detektirane krožnice')\n",
    "axs[2].imshow(img4_circles)\n",
    "plt.tight_layout()\n",
    "plt.show()"
   ]
  },
  {
   "cell_type": "markdown",
   "metadata": {
    "deletable": false,
    "editable": false,
    "nbgrader": {
     "checksum": "43b0806d5b674c92597f8da6d81ea56e",
     "grade": false,
     "grade_id": "cell-560e741c6df164df",
     "locked": true,
     "schema_version": 1,
     "solution": false
    }
   },
   "source": [
    "Napišite kodo za detekcijo krožnic:"
   ]
  },
  {
   "cell_type": "markdown",
   "metadata": {
    "deletable": false,
    "editable": false,
    "nbgrader": {
     "checksum": "499e7bb4b57f685a0ceec50853575291",
     "grade": false,
     "grade_id": "cell-ba3aaa1953014edb",
     "locked": true,
     "schema_version": 1,
     "solution": false
    }
   },
   "source": [
    "Prikažite originalno sliko s superponiranimi krožnicami in izpišite število detektiranih kroglic:"
   ]
  },
  {
   "cell_type": "code",
   "execution_count": null,
   "metadata": {
    "deletable": false,
    "nbgrader": {
     "checksum": "1894a026182fe50f2b2006c8cd21af3f",
     "grade": true,
     "grade_id": "cell-3038c4f17d76ba3b",
     "locked": false,
     "points": 3,
     "schema_version": 1,
     "solution": true
    }
   },
   "outputs": [],
   "source": []
  },
  {
   "cell_type": "code",
   "execution_count": null,
   "metadata": {
    "deletable": false,
    "nbgrader": {
     "checksum": "0bd723a0ee0951d5fc640248b8549548",
     "grade": true,
     "grade_id": "cell-6a2cbf744014a3c7",
     "locked": false,
     "points": 1,
     "schema_version": 1,
     "solution": true
    }
   },
   "outputs": [],
   "source": []
  },
  {
   "cell_type": "markdown",
   "metadata": {},
   "source": [
    "Preštejte število kroglic vsake barve in izpišite števila:"
   ]
  },
  {
   "cell_type": "code",
   "execution_count": null,
   "metadata": {
    "deletable": false,
    "nbgrader": {
     "checksum": "53ed0430677c7f27d32019fe782208cc",
     "grade": true,
     "grade_id": "cell-bb87c6dab6ce741d",
     "locked": false,
     "points": 1,
     "schema_version": 1,
     "solution": true
    }
   },
   "outputs": [],
   "source": []
  },
  {
   "cell_type": "markdown",
   "metadata": {
    "deletable": false,
    "editable": false,
    "nbgrader": {
     "checksum": "2b19b9f368d54f2a3ae9730d0f8ca0a1",
     "grade": false,
     "grade_id": "cell-d2fbbd9e3cb3afa2",
     "locked": true,
     "schema_version": 1,
     "solution": false
    }
   },
   "source": [
    "3. Z drugačno kriterijsko funkcijo, kot jo za analizo lastnih vrednosti $\\lambda_1$ in $\\lambda_2$ matrike $M$, $\\lambda_1 >\\lambda_2$, uporablja Harrisov detektor oglišč, lahko iščemo, detektiramo ali poudarjamo podolgovate strukture v sliki. Ena od tovrstnih funkcij je **linearna anizotropičnost**:\n",
    "$$Q_{LA} = \\frac{\\lambda_1 - \\lambda_2}{\\lambda_1 + \\lambda_2 + \\beta}\\,,$$\n",
    "kjer je $\\beta > 0$ poljubna konstanta. Napišite funkcijo za poudarjanje podolgovatih struktur v vhodni sivinski sliki `iImage`:\n",
    "    ```python\n",
    "    def enhanceLinear( iImage, iSigma, iBeta ):\n",
    "        return oQLA\n",
    "    ```\n",
    "kjer je `iSigma` standardna deviacija Gaussove funkcije za glajenje elementov matrike $M$, `iBeta` pa poljubna nenegativna konstanta. Nesortirane lastne vrednosti Harrisovega detektorja lahko dobite z OpenCV funkcijo `cornerEigenValsAndVecs`.\n",
    "\n",
    " Naložite barvno $RGB$ sliko `data/slika5.png`, jo pretvorite v sivinsko sliko in nelinearno skalirajte z vrednostjo $\\gamma=2$. Uporabite funkcijo `enhanceLinear()` za poudarjanje cest na satelitski sliki tako, da določite optimalne vrednosti parametrov `iSigma` in `iBeta`. Prikažite po vašem optimalen odziv `oQLA` s poudarjenimi podolgovatimi strukturami in izpišite izbrani vrednosti `iSigma` in `iBeta`. Z upragovljanjem odziva izluščite masko cest in jih na barvni sliki pobarvajte z rdečo barvo.\n",
    "\n",
    " S primerno izbiro parametrov lahko Harrisov detektor uporabimo tudi za zaznavanje okroglih struktur. Na isti sivinski in nelinearno skalirani sliki s funkcijo `cornerHarris` razmejite območja objektov in območja brez rastja. Pridobljeni odziv prikažite, njegovo razmejitev pa uporabite na barvni sliki za obarvanje teh območij z modro barvo. Ena izmed možnih rešitev je prikazana na spodnji sliki.\n",
    "\n",
    " ![Road detection](images/RV_5_SLO_road_detection.png)"
   ]
  },
  {
   "cell_type": "markdown",
   "metadata": {
    "deletable": false,
    "editable": false,
    "nbgrader": {
     "checksum": "782992a9eba2b4b651711c90d6d9b29c",
     "grade": false,
     "grade_id": "cell-93b84a53f541565b",
     "locked": true,
     "schema_version": 1,
     "solution": false
    }
   },
   "source": [
    "Implementirajte funkcijo `enhanceLinear`:"
   ]
  },
  {
   "cell_type": "code",
   "execution_count": null,
   "metadata": {
    "deletable": false,
    "nbgrader": {
     "checksum": "ce145f833abfc7f9571de59a3a9f5e7e",
     "grade": true,
     "grade_id": "cell-341c04d89f2da71f",
     "locked": false,
     "points": 3,
     "schema_version": 1,
     "solution": true
    }
   },
   "outputs": [],
   "source": [
    "\n",
    "def enhanceLinear(iImage, iSigma, iBeta):\n",
    "    size = int(2 * np.ceil(3 * iSigma) + 1)\n",
    "    eigenVandV = cv.cornerEigenValsAndVecs(iImage, size, cv.BORDER_REPLICATE)\n",
    "    lambda1 = eigenVandV[:, :, 0]\n",
    "    lambda2 = eigenVandV[:, :, 1]\n",
    "    oQLA = (lambda1 - lambda2) / (lambda1 + lambda2 + iBeta)\n",
    "    return oQLA"
   ]
  },
  {
   "cell_type": "markdown",
   "metadata": {
    "deletable": false,
    "editable": false,
    "nbgrader": {
     "checksum": "91348fa08e5d8226d6c241c9d0043030",
     "grade": false,
     "grade_id": "cell-51a873386f528223",
     "locked": true,
     "schema_version": 1,
     "solution": false
    }
   },
   "source": [
    "Naložite barvno $RGB$ sliko `data/slika5.png`, jo pretvorite v sivinsko sliko, jo nelinearno skalirajte z vrednostjo $\\gamma=2$ ter prikažite dobljeno sliko:"
   ]
  },
  {
   "cell_type": "code",
   "execution_count": null,
   "metadata": {
    "deletable": false,
    "nbgrader": {
     "checksum": "4ef822d16b1e6b2cd583b91fbd15f3f8",
     "grade": true,
     "grade_id": "cell-0397876332531ca8",
     "locked": false,
     "points": 1,
     "schema_version": 1,
     "solution": true
    }
   },
   "outputs": [],
   "source": [
    "from rvlib import gammaImage\n",
    "img5 = cv.imread('data/slika5.png')\n",
    "gray_img5 = cv.cvtColor(img5, cv.COLOR_BGR2GRAY)\n",
    "gamma_img5 = gammaImage(gray_img5, 2)\n",
    "showImage(gamma_img5)"
   ]
  },
  {
   "cell_type": "markdown",
   "metadata": {
    "deletable": false,
    "editable": false,
    "nbgrader": {
     "checksum": "a2a1960b555a3824c37647cd2ed71ae8",
     "grade": false,
     "grade_id": "cell-0d2783c19da45ca8",
     "locked": true,
     "schema_version": 1,
     "solution": false
    }
   },
   "source": [
    "Poiščite optimalne parametre `iSigma` in `iBeta`. Prikažite odziv funkcije `enhanceLinear` z optimalnimi parametri in izpišite le-te parametre:"
   ]
  },
  {
   "cell_type": "code",
   "execution_count": null,
   "metadata": {
    "deletable": false,
    "nbgrader": {
     "checksum": "26651eca501c27ec08d4592ecc764991",
     "grade": true,
     "grade_id": "cell-b31c953bb551479e",
     "locked": false,
     "points": 1,
     "schema_version": 1,
     "solution": true
    }
   },
   "outputs": [],
   "source": [
    "sigma = 1\n",
    "beta = 5\n",
    "QLA_img5 = enhanceLinear(gamma_img5, sigma, beta)\n",
    "print('sigma:', sigma)\n",
    "print('beta:', beta)\n",
    "showImage(QLA_img5)"
   ]
  },
  {
   "cell_type": "markdown",
   "metadata": {
    "deletable": false,
    "editable": false,
    "nbgrader": {
     "checksum": "ca5257561ea00ff069fe751c8fab6194",
     "grade": false,
     "grade_id": "cell-550529ec24faa9c4",
     "locked": true,
     "schema_version": 1,
     "solution": false
    }
   },
   "source": [
    "Upragovite odziv, izluščite masko cest in na originalni sliki pobarvajte ceste z rdečo barvo ter prikažite dobljeno sliko:"
   ]
  },
  {
   "cell_type": "code",
   "execution_count": null,
   "metadata": {
    "deletable": false,
    "nbgrader": {
     "checksum": "5bae5996acf0bcf8fbee44cb7647b3f9",
     "grade": true,
     "grade_id": "cell-2f20fbaf80abab10",
     "locked": false,
     "points": 1,
     "schema_version": 1,
     "solution": true
    }
   },
   "outputs": [],
   "source": [
    "threshold_img5 = np.copy(QLA_img5)\n",
    "threshold = 2e-3\n",
    "threshold_img5[threshold_img5 <= threshold] = 0\n",
    "threshold_img5[threshold_img5 > threshold] = 255\n",
    "showImage(threshold_img5)\n",
    "img5_red = np.copy(img5)\n",
    "img5_red[threshold_img5 == 255] = (255, 0, 0)\n",
    "showImage(img5_red)"
   ]
  },
  {
   "cell_type": "markdown",
   "metadata": {
    "deletable": false,
    "editable": false,
    "nbgrader": {
     "checksum": "2f41daaeb654f4532f4c61d473c03792",
     "grade": false,
     "grade_id": "cell-047051416c3b56ed",
     "locked": true,
     "schema_version": 1,
     "solution": false
    }
   },
   "source": [
    "Na isti sivinski in nelinearno skalirani sliki s funkcijo `cornerHarris` izluščite območja objektov in območja brez rastja. Pridobljeni odziv prikažite:"
   ]
  },
  {
   "cell_type": "code",
   "execution_count": null,
   "metadata": {
    "deletable": false,
    "nbgrader": {
     "checksum": "f95d60f4f2fdc0ebdf061903f4544b76",
     "grade": true,
     "grade_id": "cell-9cc7a5567e3441a9",
     "locked": false,
     "points": 1,
     "schema_version": 1,
     "solution": true
    }
   },
   "outputs": [],
   "source": [
    "#slika gamma_img5\n",
    "sigma = 1\n",
    "size = int(2 * np.ceil(3 * sigma) + 1)\n",
    "Harris_img5 = cv.cornerHarris(gamma_img5, size, ksize=3, k=5)\n",
    "showImage(Harris_img5)"
   ]
  },
  {
   "cell_type": "markdown",
   "metadata": {
    "deletable": false,
    "editable": false,
    "nbgrader": {
     "checksum": "0715e79ea180e375266e1f1aa40e545a",
     "grade": false,
     "grade_id": "cell-2d299149b591dda8",
     "locked": true,
     "schema_version": 1,
     "solution": false
    }
   },
   "source": [
    "Na originalno sliko z obarvanimi cestami obarvajte z modro barvo še območja objektov ter prikažite dobljeno sliko:\n"
   ]
  },
  {
   "cell_type": "code",
   "execution_count": null,
   "metadata": {
    "deletable": false,
    "nbgrader": {
     "checksum": "9851af0749e42d4e43f6c0b84cfcaff8",
     "grade": true,
     "grade_id": "cell-bba67a9ebcc0e0b9",
     "locked": false,
     "points": 1,
     "schema_version": 1,
     "solution": true
    }
   },
   "outputs": [],
   "source": [
    "threshold = 1e-3\n",
    "threshold_Harris_img5 = np.copy(Harris_img5) * (-1)\n",
    "threshold_Harris_img5[threshold_Harris_img5 <= threshold] = 0\n",
    "threshold_Harris_img5[threshold_Harris_img5 > threshold] = 255\n",
    "showImage(threshold_Harris_img5)\n",
    "img5_red_blue = np.copy(img5_red)\n",
    "img5_red_blue[(threshold_Harris_img5 == 255) & np.all(img5_red != (255, 0, 0), axis=-1)] = (0, 0, 255)\n",
    "showImage(img5_red_blue)"
   ]
  }
 ],
 "metadata": {
  "kernelspec": {
   "display_name": "Python 3",
   "language": "python",
   "name": "python3"
  },
  "language_info": {
   "codemirror_mode": {
    "name": "ipython",
    "version": 3
   },
   "file_extension": ".py",
   "mimetype": "text/x-python",
   "name": "python",
   "nbconvert_exporter": "python",
   "pygments_lexer": "ipython3",
   "version": "3.10.10"
  }
 },
 "nbformat": 4,
 "nbformat_minor": 2
}
