{
 "cells": [
  {
   "cell_type": "markdown",
   "metadata": {},
   "source": [
    "Before you turn this problem in, make sure everything runs as expected. First, **restart the kernel** (in the menubar, select Kernel$\\rightarrow$Restart) and then **run all cells** (in the menubar, select Cell$\\rightarrow$Run All).\n",
    "\n",
    "Make sure you fill in any place that says `YOUR CODE HERE` or \"YOUR ANSWER HERE\", as well as your name and collaborators below:"
   ]
  },
  {
   "cell_type": "code",
   "execution_count": null,
   "metadata": {},
   "outputs": [],
   "source": [
    "NAME = \"Anamarija Hauptman\"\n",
    "COLLABORATORS = \"\""
   ]
  },
  {
   "cell_type": "code",
   "execution_count": null,
   "metadata": {},
   "outputs": [],
   "source": [
    "import numpy as np\n",
    "import scipy.ndimage as ndi\n",
    "from scipy.interpolate import interpn\n",
    "import PIL.Image as Image\n",
    "import rvlib as rv\n",
    "import time\n",
    "import matplotlib.pyplot as plt"
   ]
  },
  {
   "cell_type": "markdown",
   "metadata": {},
   "source": [
    "---"
   ]
  },
  {
   "cell_type": "markdown",
   "metadata": {
    "deletable": false,
    "editable": false,
    "nbgrader": {
     "checksum": "309a7148e3112efa7afc5e366c1f47bf",
     "grade": false,
     "grade_id": "cell-55e9b2f3a627dacb",
     "locked": true,
     "schema_version": 1,
     "solution": false
    }
   },
   "source": [
    "# Domača naloga 3\n",
    "\n",
    "Pri vseh nalogah uporabite sliko na naslovu `\"./data/slika.JPG\"`."
   ]
  },
  {
   "cell_type": "markdown",
   "metadata": {
    "deletable": false,
    "editable": false,
    "nbgrader": {
     "checksum": "98c074ae1955ac297d81c6d5be96f7c0",
     "grade": false,
     "grade_id": "cell-7e58f94708c2f4e4",
     "locked": true,
     "schema_version": 1,
     "solution": false
    }
   },
   "source": [
    "1. Uporabite funkcijo `convolve()` v Python knjižnici `scipy.ndimage` za izračun 2D diskretne konvolucije na sivinski sliki z jedrom `iKernel = numpy.ones([11,11])/121`. Prikažite dobljeno sliko in izpišite čas trajanja izračuna v milisekundah. Trajanje izračunajte z uporabo funkcije `clock()` v knjižnjici `time` in ga nato ustrezno pretvorite."
   ]
  },
  {
   "cell_type": "code",
   "execution_count": null,
   "metadata": {
    "deletable": false,
    "nbgrader": {
     "checksum": "3cfd0568e4c428a854b8696de987a1e0",
     "grade": true,
     "grade_id": "konvolucija-2D",
     "locked": false,
     "points": 1,
     "schema_version": 1,
     "solution": true
    }
   },
   "outputs": [],
   "source": [
    "img = rv.loadImage('./data/slika.JPG')\n",
    "iKernel = np.ones([11, 11]) / 121\n",
    "gray_img = rv.colorToGray(img)\n",
    "\n",
    "t1 = time.perf_counter_ns()\n",
    "convolve_img = ndi.convolve(gray_img, iKernel)\n",
    "t2 = time.perf_counter_ns()\n",
    "\n",
    "print('cas trajanja izpisa:', (t2 - t1) / 10e6, 'milisekund')\n",
    "\n",
    "rv.showImage(convolve_img, iTitle='2D diskretna konvolucija z jedrom velikosti 11x11')"
   ]
  },
  {
   "cell_type": "code",
   "execution_count": null,
   "metadata": {
    "scrolled": true
   },
   "outputs": [],
   "source": [
    "iKernel = np.ones([11, 11]) / 121"
   ]
  },
  {
   "cell_type": "markdown",
   "metadata": {
    "deletable": false,
    "editable": false,
    "nbgrader": {
     "checksum": "b48a1be9cc5f7941b5cbd2a57eae33ab",
     "grade": false,
     "grade_id": "cell-e9d3aca138ae3cfd",
     "locked": true,
     "schema_version": 1,
     "solution": false
    }
   },
   "source": [
    "2. V funkciji diskretne 2D konvolucije napisani na vajah smo privzeli, da so sivinske vrednosti točk zunaj slike enake 0. Pri uporabi funkcije z večjimi konvolucijskimi jedri zaradi tega na izhodnih slikah dobimo popačen rob. Obstajajo različni načini za odpravo teh popačenj. Opišite in analizirajte vse možne načine, ki jih omogoča funkcija `convolve()` v Python knjižnici `scipy.ndimage` (parameter mode), ter prikažite rezultate. Vizualno ocenite kako se razlikujejo rezultati različnih načinov pri manjših in večjih velikostih jedra za povprečenje (npr. 5 in 21)."
   ]
  },
  {
   "cell_type": "code",
   "execution_count": null,
   "metadata": {},
   "outputs": [],
   "source": [
    "img = rv.loadImage('./data/slika.JPG')\n",
    "iKernel1 = np.ones([5, 5]) / 25\n",
    "iKernel2 = np.ones([21, 21]) / 441\n",
    "gray_img = rv.colorToGray(img)"
   ]
  },
  {
   "cell_type": "markdown",
   "metadata": {},
   "source": [
    "2. 1. Opišite in analizirajte način \"reflect\" ter prikažite na ta način izračunano sliko"
   ]
  },
  {
   "cell_type": "markdown",
   "metadata": {},
   "source": [
    "`‘reflect’`: (d c b a | a b c d | d c b a) Zrcaljenje čez rob"
   ]
  },
  {
   "cell_type": "code",
   "execution_count": null,
   "metadata": {
    "deletable": false,
    "nbgrader": {
     "checksum": "27ab7f91651db6b1a3ee68be3db9e75b",
     "grade": true,
     "grade_id": "konvolucija-reflect",
     "locked": false,
     "points": 1,
     "schema_version": 1,
     "solution": true
    }
   },
   "outputs": [],
   "source": [
    "convolve_img1 = ndi.convolve(gray_img, iKernel1, mode='reflect')\n",
    "convolve_img2 = ndi.convolve(gray_img, iKernel2, mode='reflect')\n",
    "\n",
    "fig, axs = plt.subplots(1, 2, figsize=(10, 8))\n",
    "axs[0].set_title('Kernel size = 5')\n",
    "axs[0].imshow(convolve_img1, cmap='gray')\n",
    "axs[1].set_title('Kernel size = 21')\n",
    "axs[1].imshow(convolve_img2, cmap='gray')\n",
    "plt.tight_layout()\n",
    "plt.show()"
   ]
  },
  {
   "cell_type": "markdown",
   "metadata": {},
   "source": [
    "2. 2. Opišite in analizirajte način \"constant\" ter prikažite na ta način izračunano sliko"
   ]
  },
  {
   "cell_type": "markdown",
   "metadata": {},
   "source": [
    "`constant`(k k k k | a b c d | k k k k)\n",
    "Sivinske vrednosti tock izven slike so enake konstanti `cval`. Prednastavljena vrednost je enaka 0.\n",
    "\n",
    "Default je enak naši implementirani verziji -- rob je popačen."
   ]
  },
  {
   "cell_type": "code",
   "execution_count": null,
   "metadata": {
    "deletable": false,
    "nbgrader": {
     "checksum": "cab1e9799553de7823f25d6cf0232202",
     "grade": true,
     "grade_id": "konvolucija-constant",
     "locked": false,
     "points": 1,
     "schema_version": 1,
     "solution": true
    }
   },
   "outputs": [],
   "source": [
    "convolve_img1 = ndi.convolve(gray_img, iKernel1, mode='constant', cval=0)\n",
    "convolve_img2 = ndi.convolve(gray_img, iKernel2, mode='constant', cval=0)\n",
    "\n",
    "fig, axs = plt.subplots(1, 2, figsize=(10, 8))\n",
    "axs[0].set_title('Kernel size = 5')\n",
    "axs[0].imshow(convolve_img1, cmap='gray')\n",
    "axs[1].set_title('Kernel size = 21')\n",
    "axs[1].imshow(convolve_img2, cmap='gray')\n",
    "plt.tight_layout()\n",
    "plt.show()"
   ]
  },
  {
   "cell_type": "markdown",
   "metadata": {},
   "source": [
    "2. 3. Opišite in analizirajte način \"nearest\" ter prikažite na ta način izračunano sliko"
   ]
  },
  {
   "cell_type": "markdown",
   "metadata": {},
   "source": [
    "`‘nearest’` (a a a a | a b c d | d d d d)\n",
    "Sivinske vrednosti točk izven slike so enake robnim pikslom."
   ]
  },
  {
   "cell_type": "code",
   "execution_count": null,
   "metadata": {
    "deletable": false,
    "nbgrader": {
     "checksum": "e49d6938863dcd3eb0ab3581e3062563",
     "grade": true,
     "grade_id": "konvolucija-nearest",
     "locked": false,
     "points": 1,
     "schema_version": 1,
     "solution": true
    }
   },
   "outputs": [],
   "source": [
    "convolve_img1 = ndi.convolve(gray_img, iKernel1, mode='nearest')\n",
    "convolve_img2 = ndi.convolve(gray_img, iKernel2, mode='nearest')\n",
    "\n",
    "fig, axs = plt.subplots(1, 2, figsize=(10, 8))\n",
    "axs[0].set_title('Kernel size = 5')\n",
    "axs[0].imshow(convolve_img1, cmap='gray')\n",
    "axs[1].set_title('Kernel size = 21')\n",
    "axs[1].imshow(convolve_img2, cmap='gray')\n",
    "plt.tight_layout()\n",
    "plt.show()"
   ]
  },
  {
   "cell_type": "markdown",
   "metadata": {},
   "source": [
    "2. 4. Opišite in analizirajte način \"mirror\" ter prikažite na ta način izračunano sliko"
   ]
  },
  {
   "cell_type": "markdown",
   "metadata": {},
   "source": [
    "`‘mirror’` (d c b | a b c d | c b a)\n",
    "Sivinske vrednosti točk izven slike so zrcaljene čez rob, kjer zadnjipiksel slike predstavlja center.\n"
   ]
  },
  {
   "cell_type": "code",
   "execution_count": null,
   "metadata": {
    "deletable": false,
    "nbgrader": {
     "checksum": "3f10e235129d91d0e3155d0325c87822",
     "grade": true,
     "grade_id": "konvolucija-mirror",
     "locked": false,
     "points": 1,
     "schema_version": 1,
     "solution": true
    }
   },
   "outputs": [],
   "source": [
    "convolve_img1 = ndi.convolve(gray_img, iKernel1, mode='mirror')\n",
    "convolve_img2 = ndi.convolve(gray_img, iKernel2, mode='mirror')\n",
    "\n",
    "fig, axs = plt.subplots(1, 2, figsize=(10, 8))\n",
    "axs[0].set_title('Kernel size = 5')\n",
    "axs[0].imshow(convolve_img1, cmap='gray')\n",
    "axs[1].set_title('Kernel size = 21')\n",
    "axs[1].imshow(convolve_img2, cmap='gray')\n",
    "plt.tight_layout()\n",
    "plt.show()"
   ]
  },
  {
   "cell_type": "markdown",
   "metadata": {
    "deletable": false,
    "editable": false,
    "nbgrader": {
     "checksum": "cb41384a9b1f8c7ee9bf30000f168b8f",
     "grade": false,
     "grade_id": "cell-d04dbba7c0ba73d7",
     "locked": true,
     "schema_version": 1,
     "solution": false
    }
   },
   "source": [
    "2. 5. Opišite in analizirajte način \"wrap\" ter prikažite na ta način izračunano sliko"
   ]
  },
  {
   "cell_type": "markdown",
   "metadata": {},
   "source": [
    "`‘wrap’` (a b c d | a b c d | a b c d)\n",
    "\n",
    "The input is extended by wrapping around to the opposite edge."
   ]
  },
  {
   "cell_type": "code",
   "execution_count": null,
   "metadata": {
    "deletable": false,
    "nbgrader": {
     "checksum": "e009bc8d88d1e641b667ce2694d544e5",
     "grade": true,
     "grade_id": "konvolucija-wrap",
     "locked": false,
     "points": 1,
     "schema_version": 1,
     "solution": true
    }
   },
   "outputs": [],
   "source": [
    "convolve_img1 = ndi.convolve(gray_img, iKernel1, mode='wrap')\n",
    "convolve_img2 = ndi.convolve(gray_img, iKernel2, mode='wrap')\n",
    "\n",
    "fig, axs = plt.subplots(1, 2, figsize=(10, 8))\n",
    "axs[0].set_title('Kernel size = 5')\n",
    "axs[0].imshow(convolve_img1, cmap='gray')\n",
    "axs[1].set_title('Kernel size = 21')\n",
    "axs[1].imshow(convolve_img2, cmap='gray')\n",
    "plt.tight_layout()\n",
    "plt.show()"
   ]
  },
  {
   "cell_type": "markdown",
   "metadata": {
    "deletable": false,
    "editable": false,
    "nbgrader": {
     "checksum": "279a52650bfc3a3555a18dd7dd366707",
     "grade": false,
     "grade_id": "cell-22477f44a4a2a8bc",
     "locked": true,
     "schema_version": 1,
     "solution": false
    }
   },
   "source": [
    "3. Napišite funkcijo `discreteConvolutionColorImage`, ki bo omogočala konvolucijo barvnih slik s poljubnim jedrom. Preizkusite delovanje na barvni sliki z jedrom `iKernel = numpy.ones([11,11])/121` in prikažite sliko."
   ]
  },
  {
   "cell_type": "code",
   "execution_count": null,
   "metadata": {
    "deletable": false,
    "nbgrader": {
     "checksum": "62df2bca5df6e2804dbea47ecc70c90c",
     "grade": false,
     "grade_id": "konvolucija-barvna",
     "locked": false,
     "schema_version": 1,
     "solution": true
    }
   },
   "outputs": [],
   "source": [
    "# Implementirajte funkcijo\n",
    "def discreteConvolutionColorImage(iImage, iKernel, iMode = 'mirror'):\n",
    "    #Your code here\n",
    "    if iImage.ndim == 3 and iImage.shape[0] == 3:\n",
    "        iImage = np.transpose(iImage, [1, 2, 0])\n",
    "    oImage = np.zeros_like(iImage)\n",
    "    for i in range(iImage.shape[2]):\n",
    "        oImage[:, :, i] = ndi.convolve(iImage[:, :, i], iKernel, mode=iMode)\n",
    "    return oImage\n",
    "img = rv.loadImage('./data/slika.JPG')\n",
    "iKernel = np.ones([11,11]) / 121\n",
    "img_cc = discreteConvolutionColorImage(img, iKernel)\n",
    "#plt.figure()\n",
    "#plt.imshow(img_cc)\n",
    "#plt.title('Konvolucija barvne slike z jedrom velikosti 11x11')\n",
    "#plt.show()\n",
    "rv.showImage(img_cc, iTitle='Konvolucija barvne slike z jedrom velikosti 11x11')"
   ]
  },
  {
   "cell_type": "code",
   "execution_count": null,
   "metadata": {
    "deletable": false,
    "editable": false,
    "nbgrader": {
     "checksum": "6c688d567774bed6576e7c33f5d46a2f",
     "grade": true,
     "grade_id": "konvolucija-barvna-test",
     "locked": true,
     "points": 1,
     "schema_version": 1,
     "solution": false
    }
   },
   "outputs": [],
   "source": [
    "from nose.tools import assert_equal, assert_almost_equal\n",
    "test_image = np.zeros((100, 100, 3), dtype='uint8')\n",
    "test_image[46:49, 46:49, 1] = 255\n",
    "test_image[46:49, 46:49, 0] = 25\n",
    "test_kernel = np.ones((3, 3)) / 9\n",
    "result = discreteConvolutionColorImage(test_image, test_kernel)\n",
    "\n",
    "expected_result = np.zeros_like(test_image)\n",
    "expected_result[45:50, 45:50, 0] = np.array(\n",
    "    [[2,  5,  8,  5, 2],\n",
    "     [5, 11, 16, 11, 5],\n",
    "     [8, 16, 25, 16, 8],\n",
    "     [5, 11, 16, 11, 5],\n",
    "     [2,  5,  8,  5, 2]])\n",
    "expected_result[45:50, 45:50, 1] = np.array(\n",
    "    [[28,  56,  85,  56,  28],\n",
    "     [56, 113, 170, 113,  56],\n",
    "     [85, 170, 255, 170,  85],\n",
    "     [56, 113, 170, 113,  56],\n",
    "     [28,  56,  85,  56,  28]])\n",
    "assert_equal(np.sum(result - expected_result), 0)"
   ]
  },
  {
   "cell_type": "code",
   "execution_count": null,
   "metadata": {
    "deletable": false,
    "nbgrader": {
     "checksum": "55cd8f7145b43d8fc3023ce0abab3f3f",
     "grade": true,
     "grade_id": "konvolucija-barvna-slika",
     "locked": false,
     "points": 1,
     "schema_version": 1,
     "solution": true
    }
   },
   "outputs": [],
   "source": [
    "# Prikažite sliko\n"
   ]
  },
  {
   "cell_type": "markdown",
   "metadata": {
    "deletable": false,
    "editable": false,
    "nbgrader": {
     "checksum": "c45d9baee85ecdaedc55c1625db0b438",
     "grade": false,
     "grade_id": "cell-a75fb1ce7b87597b",
     "locked": true,
     "schema_version": 1,
     "solution": false
    }
   },
   "source": [
    "4. 1. Napišite funkcijo za izračun konvolucijskega jedra v obliki 2D simetrične Gaussove funkcije:\n",
    "```python\n",
    "    def discreteGaussian2D( iSigma ):\n",
    "        return oKernel\n",
    "```\n",
    " kjer je `iSigma` standardna deviacija $\\sigma$ v 2D simetrični Gaussovi funkciji, ki je definirana kot: \n",
    "   $k(u, v) = (2\\pi)^{-1}\\sigma^{-2}e^{-(u^2 + v^2)/{2\\sigma^2}}$ Velikost konvolucijskega jedra $U \\times V$ nastavite glede na vrednost `iSigma` kot $U, V = 2 \\cdot (3 \\sigma) + 1$, kjer tako pridobljene vrednosti $U$ in $V$ zaokrožite s funkcijo `numpy.ceil`, vrednost $k(0, 0)$ pa naj bo v središčnem elementu izhodne 2D matrike `oKernel`. Zagotovite, da bo vsota vseh elementov `oKernel` enaka 1. "
   ]
  },
  {
   "cell_type": "code",
   "execution_count": null,
   "metadata": {
    "deletable": false,
    "nbgrader": {
     "checksum": "6717ad575e370b4a037e3b192cd3e101",
     "grade": false,
     "grade_id": "gauss-kernel",
     "locked": false,
     "schema_version": 1,
     "solution": true
    }
   },
   "outputs": [],
   "source": [
    "# Implementirajte funkcijo za izračun konvolucijskega jedra\n",
    "def discreteGaussian2D(iSigma):\n",
    "    size = int(2 * np.ceil(3 * iSigma) + 1)\n",
    "    center = size // 2\n",
    "    oKernel = np.zeros((size, size))\n",
    "    for u in range(size):\n",
    "        for v in range(size):\n",
    "            distance = ((u - center) ** 2 + (v - center) ** 2) / (2 * iSigma ** 2)\n",
    "            oKernel[u, v] = np.exp(-distance) / (2 * np.pi * iSigma ** 2)\n",
    "    oKernel /= np.sum(oKernel)\n",
    "    return oKernel"
   ]
  },
  {
   "cell_type": "code",
   "execution_count": null,
   "metadata": {},
   "outputs": [],
   "source": [
    "\n"
   ]
  },
  {
   "cell_type": "code",
   "execution_count": null,
   "metadata": {
    "deletable": false,
    "editable": false,
    "nbgrader": {
     "checksum": "8262c9961ef9225cf738856d76a212e6",
     "grade": true,
     "grade_id": "gauss-kernel-test",
     "locked": true,
     "points": 1,
     "schema_version": 1,
     "solution": false
    }
   },
   "outputs": [],
   "source": [
    "from nose.tools import assert_equal, assert_almost_equal\n",
    "k1 = discreteGaussian2D(1)\n",
    "k3 = discreteGaussian2D(3)\n",
    "assert_equal(k1.shape, (7, 7))\n",
    "assert_equal(k3.shape, (19, 19))\n",
    "assert_almost_equal(np.sum(k1), 1, places=3)\n",
    "assert_almost_equal(np.sum(k3), 1, places=3)\n",
    "assert_almost_equal(k1[3, 3], 0.1592, places=3)\n",
    "assert_almost_equal(k3[9, 9], 0.017735, places=3)"
   ]
  },
  {
   "cell_type": "code",
   "execution_count": null,
   "metadata": {
    "deletable": false,
    "editable": false,
    "nbgrader": {
     "checksum": "e8b697830b2e921bd4fe2823bc59cd5a",
     "grade": true,
     "grade_id": "gauss-kernel-skriti-test",
     "locked": true,
     "points": 1,
     "schema_version": 1,
     "solution": false
    }
   },
   "outputs": [],
   "source": []
  },
  {
   "cell_type": "markdown",
   "metadata": {
    "deletable": false,
    "editable": false,
    "nbgrader": {
     "checksum": "c409e707145f480a968d243717ed1a7b",
     "grade": false,
     "grade_id": "cell-58d8092c30b92b02",
     "locked": true,
     "schema_version": 1,
     "solution": false
    }
   },
   "source": [
    "4. 2. Določite konvolucijski jedri za $\\sigma = 0.1$ in $3$. Z jedroma izvedite diskretno 2D konvolucijo na barvni sliki in ju prikažite. Obrazložite vpliv vrednosti $\\sigma$."
   ]
  },
  {
   "cell_type": "code",
   "execution_count": null,
   "metadata": {
    "deletable": false,
    "nbgrader": {
     "checksum": "3efcee761b98786d3903e629eaf51980",
     "grade": true,
     "grade_id": "gauss-kernel-jedra",
     "locked": false,
     "points": 1,
     "schema_version": 1,
     "solution": true
    }
   },
   "outputs": [],
   "source": [
    "kernel01 = discreteGaussian2D(0.1)\n",
    "kernel3 = discreteGaussian2D(3)\n",
    "\n",
    "img = rv.loadImage('./data/slika.JPG')\n",
    "img_con_01 = discreteConvolutionColorImage(img, kernel01)\n",
    "img_con_3 = discreteConvolutionColorImage(img, kernel3)\n",
    "\n",
    "if img.ndim == 3 and img.shape[0] == 3:\n",
    "    img = np.transpose(img, [1, 2, 0])\n",
    "rv.showImage(img, iTitle='Originalna slika')"
   ]
  },
  {
   "cell_type": "code",
   "execution_count": null,
   "metadata": {
    "deletable": false,
    "nbgrader": {
     "checksum": "59dd33f7d865917e73c7a17ae1580b89",
     "grade": true,
     "grade_id": "gauss-kernel-sliki",
     "locked": false,
     "points": 1,
     "schema_version": 1,
     "solution": true
    }
   },
   "outputs": [],
   "source": [
    "rv.showImage(img_con_01, iTitle='sigma = 0.1')"
   ]
  },
  {
   "cell_type": "code",
   "execution_count": null,
   "metadata": {},
   "outputs": [],
   "source": [
    "rv.showImage(img_con_3, iTitle='sigma = 3')"
   ]
  },
  {
   "cell_type": "markdown",
   "metadata": {},
   "source": [
    "Za majhno vrednost $\\sigma$ (npr. $\\sigma = 0.1$) je vpliv glajenja majhen, saj je utež elementa $(0,0)$ skoraj 1. Večja kot je vrednost $\\sigma$, večja je torej disperzija in večje so pripisane uteži okoliškim elementom $(u,v), u,v\\neq 0$. Ker sta tudi vrednosti $U$ in $V$ linearno odvisni od vrednosti $\\sigma$ bo večja tudi velikost filtra. "
   ]
  },
  {
   "cell_type": "markdown",
   "metadata": {
    "deletable": false,
    "editable": false,
    "nbgrader": {
     "checksum": "c970618dc1611a0639029c1fa953f9f0",
     "grade": false,
     "grade_id": "cell-3ed9335ad43e5bf4",
     "locked": true,
     "schema_version": 1,
     "solution": false
    }
   },
   "source": [
    "5. Ostrenje slike je analogno prostorskemu odvajanju sivinskih vrednosti. Ostrenje slik z drugim odvodom izvedemo z uporabo Laplaceovega jedra tako, da vhodni sliki $g(x, y)$ odštejemo uteženo sliko drugega odvoda slike: \n",
    " \n",
    " $$f(x, y) = g(x, y) - c \\Delta g(x, y)$$\n",
    "\n",
    " kjer konstanta $c$ določa stopnjo ostrenja. \n",
    " 1. Implementirajte funkcijo, ki izostri sivinsko sliko. Poskrbite da, po odštevanju oz. prištevanju slike drugega odvoda $g(x, y)$ zagotovite, da bodo vrednosti 8-bitne sivinske slike na območju od $[0, 255]$, pri čemer vrednosti manjše od 0 oz. vrednosti večje od 255 ustrezno zaokrožite. \n",
    " 2. Izostrite sivinsko sliko z vrednostmi $c = 0, 0.5, 1, 2$ in slike prikažite. Preizkusite različne vrednosti $c$ in obrazložite njihov vpliv na rezultirajočo sivinsko sliko. Če vam čas dopušča preizkusite ostrenje še na barvni sliki.\n",
    "\n",
    "<img src=\"./images/RV_4_SLO_LaplaceJedro.png\" alt=\"Laplace\" width=\"150\"/>"
   ]
  },
  {
   "cell_type": "code",
   "execution_count": null,
   "metadata": {
    "deletable": false,
    "nbgrader": {
     "checksum": "3f955d483d68fa84830303df89f3598d",
     "grade": true,
     "grade_id": "ostrenje",
     "locked": false,
     "points": 1,
     "schema_version": 1,
     "solution": true
    }
   },
   "outputs": [],
   "source": [
    "# 5. A. Implementirajte funkcijo za ostrenje sivinskih slik\n",
    "def sharpenImage2D(iImage, c):\n",
    "    Laplace = np.array([[0, 1, 0], [1, -4, 1], [0, 1, 0]])\n",
    "    deltaG = ndi.convolve(iImage, Laplace).astype('uint8')\n",
    "    oImage = iImage - c * deltaG\n",
    "    oImage = np.clip(oImage, 0, 255)\n",
    "    return oImage.astype('uint8')"
   ]
  },
  {
   "cell_type": "code",
   "execution_count": null,
   "metadata": {},
   "outputs": [],
   "source": [
    "def sharpenImageColor(iImage, c):\n",
    "    oImage = []\n",
    "    if iImage.ndim == 3 and iImage.shape[0] == 3:\n",
    "        iImage = np.transpose(iImage, [1, 2, 0])\n",
    "    for i in range(iImage.shape[2]):\n",
    "        oImage.append(sharpenImage2D(iImage[:, :, i], c))\n",
    "    oImage = np.array(oImage).astype('uint8')\n",
    "    return oImage"
   ]
  },
  {
   "cell_type": "code",
   "execution_count": null,
   "metadata": {
    "deletable": false,
    "nbgrader": {
     "checksum": "d479e07e5070f363c61611c8702f4e6f",
     "grade": true,
     "grade_id": "ostrenje-slike",
     "locked": false,
     "points": 1,
     "schema_version": 1,
     "solution": true
    }
   },
   "outputs": [],
   "source": [
    "img_gray = rv.colorToGray(img)\n",
    "\n",
    "rv.showImage(sharpenImage2D(img_gray, 0), iTitle='c = 0')"
   ]
  },
  {
   "cell_type": "code",
   "execution_count": null,
   "metadata": {},
   "outputs": [],
   "source": [
    "img_gray = rv.colorToGray(img)\n",
    "\n",
    "rv.showImage(sharpenImage2D(img_gray, 0.5), iTitle='c = 0.5')"
   ]
  },
  {
   "cell_type": "code",
   "execution_count": null,
   "metadata": {},
   "outputs": [],
   "source": [
    "img_gray = rv.colorToGray(img)\n",
    "\n",
    "rv.showImage(sharpenImage2D(img_gray, 1), iTitle='c = 1')"
   ]
  },
  {
   "cell_type": "code",
   "execution_count": null,
   "metadata": {},
   "outputs": [],
   "source": [
    "img_gray = rv.colorToGray(img)\n",
    "\n",
    "rv.showImage(sharpenImage2D(img_gray, 2), iTitle='c = 2')"
   ]
  },
  {
   "cell_type": "code",
   "execution_count": null,
   "metadata": {},
   "outputs": [],
   "source": [
    "img = rv.loadImage('./data/slika.JPG')\n",
    "img_sharp = sharpenImageColor(img, 1)\n",
    "if img_sharp.ndim == 3 and img_sharp.shape[0] == 3:\n",
    "    img_sharp = np.transpose(img_sharp, [1, 2, 0])\n",
    "rv.showImage(img_sharp)"
   ]
  },
  {
   "cell_type": "markdown",
   "metadata": {},
   "source": [
    "5. 3. Opišite vpliv faktorja $c$ na izostreno sliko:"
   ]
  },
  {
   "cell_type": "markdown",
   "metadata": {
    "deletable": false,
    "nbgrader": {
     "checksum": "6b87c7d5a8de83395c65202eb0758e0d",
     "grade": true,
     "grade_id": "ostrenje-opis",
     "locked": false,
     "points": 1,
     "schema_version": 1,
     "solution": true
    }
   },
   "source": [
    "Pocečevanje vrednosti nekoliko poudari robove. Homogeni deli sivinske slike ostanejo približno enaki. Izjemno se poveča število nasičenih pikslov (šum sol/poper): z naraščanjem vrednosti c postane problem še bolj izrazit."
   ]
  },
  {
   "cell_type": "markdown",
   "metadata": {},
   "source": [
    "6. Napišite funkcijo `interpolateColorImage`, ki bo omogočala uporabo interpolacije ničtega (`method='nearest'`) in prvega (`method='linear'`) reda na barvnih slikah. Uporabite funkcijo `interpn()` iz knjižnice `scipy.interpolate`. Preizkusite delovanje funkcije tako, da z ničtim in prvim redom prevzorčite del barvne slike od točke $(50, 100)$ do točke $(200, 250)$ s petkrat bolj gosto mrežo točk. Prikažite originalni del slike in prevzorčeno sliko."
   ]
  },
  {
   "cell_type": "code",
   "execution_count": null,
   "metadata": {
    "deletable": false,
    "nbgrader": {
     "checksum": "512341f6cf4fdf92b5c5a43c00235b48",
     "grade": false,
     "grade_id": "cell-971a6d7f6cbc66ae",
     "locked": false,
     "schema_version": 1,
     "solution": true
    },
    "scrolled": true
   },
   "outputs": [],
   "source": [
    "# Implementirajte funkcijo za interpolacijo barvne slike\n",
    "def interpolateColorImage(iImage, iCoorX, iCoorY, method='linear'):\n",
    "    #Your code here\n",
    "    if iImage.ndim == 3 and iImage.shape[0] == 3:\n",
    "        iImage = np.transpose(iImage, [1, 2, 0])\n",
    "    oImage = []\n",
    "    for channel in range(iImage.shape[2]):\n",
    "        interpolated_channel = interpn((iCoorX, iCoorY), iImage[:, :, channel], (iCoorX, iCoorY), method=method)\n",
    "        oImage.append(interpolated_channel)\n",
    "    oImage = np.stack(oImage, axis=2)\n",
    "    return oImage\n",
    "\n",
    "img = rv.loadImage('./data/slika.JPG')\n",
    "if img.ndim == 3 and img.shape[0] == 3:\n",
    "    img = np.transpose(img, [1, 2, 0])\n",
    "img = img[100:250, 50:200, :]\n",
    "rv.showImage(img, iTitle='Originalni del slike')"
   ]
  },
  {
   "cell_type": "code",
   "execution_count": null,
   "metadata": {
    "deletable": false,
    "editable": false,
    "nbgrader": {
     "checksum": "26855af54e0ed47b8f848751191d1abf",
     "grade": true,
     "grade_id": "cell-49d1b2e5b070f53a",
     "locked": true,
     "points": 1,
     "schema_version": 1,
     "solution": false
    }
   },
   "outputs": [],
   "source": [
    "from nose.tools import assert_equal, assert_almost_equal\n",
    "test_image = np.zeros((100, 100, 3), dtype='uint8')\n",
    "test_image[40:50, 40:50, 0] = 100\n",
    "iCoorX, iCoorY = np.meshgrid(np.arange(40, 49, 1/5), np.arange(40, 49, 1/5), indexing='xy')\n",
    "result = interpolateColorImage(test_image, iCoorX, iCoorY, 'nearest')\n",
    "assert_equal(result.shape, (45, 45, 3))\n",
    "assert(np.all(result[:, :, 0] == 100))\n",
    "assert(np.all(result[:, :, 1] == 0))\n",
    "assert(np.all(result[:, :, 2] == 0))\n",
    "result = interpolateColorImage(test_image, iCoorX, iCoorY, 'linear')\n",
    "assert_equal(result.shape, (45, 45, 3))\n",
    "assert(np.all(result[:, :, 0] == 100))\n",
    "assert(np.all(result[:, :, 1] == 0))\n",
    "assert(np.all(result[:, :, 2] == 0))"
   ]
  },
  {
   "cell_type": "code",
   "execution_count": null,
   "metadata": {
    "deletable": false,
    "nbgrader": {
     "checksum": "d44163522acce1199da696f463e2bf09",
     "grade": true,
     "grade_id": "cell-807c76825b9d11b5",
     "locked": false,
     "points": 1,
     "schema_version": 1,
     "solution": true
    }
   },
   "outputs": [],
   "source": [
    "rangeX = np.linspace(50, 200, img.shape[0])\n",
    "rangeY = np.linspace(100, 250, img.shape[1])\n",
    "meshgridX, meshgridY = np.meshgrid(rangeX, rangeY)\n",
    "img_nearest = interpolateColorImage(img, meshgridX, meshgridY, method='nearest')\n",
    "rv.showImage(img_nearest, iTitle='Interpolacija ničtega reda')"
   ]
  },
  {
   "cell_type": "code",
   "execution_count": null,
   "metadata": {},
   "outputs": [],
   "source": [
    "img_linear = interpolateColorImage(img, meshgrid_x, meshgrid_y, method='linear')\n",
    "rv.showImage(img_linear, iTitle='Interpolacija prvega reda')"
   ]
  },
  {
   "cell_type": "markdown",
   "metadata": {},
   "source": [
    "7. Prilagodite funkcijo za piramidno decimacijo tako, da bo omogočala decimiranje barvnih slik in preizkusite delovanje na barvni sliki. Pomanjšajte sliko za 2-krat in 4-krat."
   ]
  },
  {
   "cell_type": "code",
   "execution_count": null,
   "metadata": {
    "deletable": false,
    "nbgrader": {
     "checksum": "0d9e5f44ed84907e75fcd257b0d5596f",
     "grade": true,
     "grade_id": "cell-f1cb5e60381a9450",
     "locked": false,
     "points": 1,
     "schema_version": 1,
     "solution": true
    }
   },
   "outputs": [],
   "source": [
    "def zeroPad(image, m, n):\n",
    "    shape = image.shape + np.array([2*m, 2*n])\n",
    "    padded_image = np.zeros(shape)\n",
    "    padded_image[m:shape[0] - m, n:shape[1] - n] = image\n",
    "    return padded_image\n",
    "\n",
    "def discreteConvolution2D(iImage, iKerne):\n",
    "    n = np.array(iKerne.shape[0] // 2).astype('uint8')\n",
    "    m = np.array(iKerne.shape[1] // 2).astype('uint8')\n",
    "    Y, X = iImage.shape\n",
    "    iImage = zeroPad(iImage, m, n)\n",
    "    oImage = np.zeros(iImage.shape)\n",
    "    for i in range(n, Y+n):\n",
    "        for j in range(m, X+m):\n",
    "            subImage = iImage[i-n:i+n+1, j-m:j+m+1]\n",
    "            oImage[i, j] = np.sum(subImage * iKerne)\n",
    "    oImage = oImage[n:Y+n, m:X+m]\n",
    "    return oImage\n",
    "\n",
    "def decimateImage2D(iImage, iLevel, iKernel=np.array([[1/16,1/8, 1/16],[1/8, 1/4, 1/8],[1/16, 1/8, 1/16]])):\n",
    "    if iLevel <= 0:\n",
    "        return iImage\n",
    "    else:\n",
    "        oImage = iImage\n",
    "        dy, dx = oImage.shape\n",
    "        X, Y = np.meshgrid(np.arange(0, dx, 2), np.arange(0, dy, 2), indexing='xy')\n",
    "        oImage = discreteConvolution2D(oImage, iKernel)\n",
    "        oImage = oImage[Y, X]\n",
    "        return decimateImage2D(oImage, iLevel-1, iKernel)\n",
    "    \n",
    "def decimateColorImage(iImage, iLevel, iKernel=np.array([[1/16,1/8, 1/16],[1/8, 1/4, 1/8],[1/16, 1/8, 1/16]])):\n",
    "    #Your code here\n",
    "    if iImage.ndim == 3 and iImage.shape[0] == 3:\n",
    "        iImage = np.transpose(iImage, [1, 2, 0])\n",
    "    #oImage = np.zeros_like(iImage)\n",
    "    oImage = []\n",
    "    for i in range(iImage.shape[2]):\n",
    "        #oImage[:, :, i] = decimateImage2D(iImage[:, :, i], iLevel, iKernel)\n",
    "        oImage.append(decimateImage2D(iImage[:, :, i], iLevel, iKernel))\n",
    "    oImage = np.array(oImage).astype('uint8')\n",
    "    return oImage"
   ]
  },
  {
   "cell_type": "code",
   "execution_count": null,
   "metadata": {},
   "outputs": [],
   "source": [
    "img = rv.loadImage('./data/slika.JPG')\n",
    "if img.ndim == 3 and img.shape[0] == 3:\n",
    "    img = np.transpose(img, [1, 2, 0])\n",
    "\n",
    "img_dec2 = decimateColorImage(img, 2)\n",
    "if img_dec2.ndim == 3 and img_dec2.shape[0] == 3:\n",
    "    img_dec2 = np.transpose(img_dec2, [1, 2, 0])\n",
    "rv.showImage(img_dec2)"
   ]
  },
  {
   "cell_type": "code",
   "execution_count": null,
   "metadata": {},
   "outputs": [],
   "source": [
    "img_dec4 = decimateColorImage(img, 4)\n",
    "if img_dec4.ndim == 3 and img_dec4.shape[0] == 3:\n",
    "    img_dec4 = np.transpose(img_dec4, [1, 2, 0])\n",
    "rv.showImage(img_dec4)"
   ]
  }
 ],
 "metadata": {
  "kernelspec": {
   "display_name": "Python 3",
   "language": "python",
   "name": "python3"
  },
  "language_info": {
   "codemirror_mode": {
    "name": "ipython",
    "version": 3
   },
   "file_extension": ".py",
   "mimetype": "text/x-python",
   "name": "python",
   "nbconvert_exporter": "python",
   "pygments_lexer": "ipython3",
   "version": "0.0.0"
  }
 },
 "nbformat": 4,
 "nbformat_minor": 2
}
