{
 "cells": [
  {
   "cell_type": "markdown",
   "metadata": {},
   "source": [
    "Before you turn this problem in, make sure everything runs as expected. First, **restart the kernel** (in the menubar, select Kernel$\\rightarrow$Restart) and then **run all cells** (in the menubar, select Cell$\\rightarrow$Run All).\n",
    "\n",
    "Make sure you fill in any place that says `YOUR CODE HERE` or \"YOUR ANSWER HERE\", as well as your name and collaborators below:"
   ]
  },
  {
   "cell_type": "code",
   "execution_count": null,
   "metadata": {},
   "outputs": [],
   "source": [
    "NAME = \"Anamarija Hauptman\"\n",
    "COLLABORATORS = None"
   ]
  },
  {
   "cell_type": "markdown",
   "metadata": {},
   "source": [
    "---"
   ]
  },
  {
   "cell_type": "markdown",
   "metadata": {
    "deletable": false,
    "editable": false,
    "nbgrader": {
     "checksum": "fa92d4f0388df72564fc922758e130be",
     "grade": false,
     "grade_id": "cell-1d93ac81b1ad6428",
     "locked": true,
     "schema_version": 1,
     "solution": false
    }
   },
   "source": [
    "# Domača naloga 6: Geometrijska kalibracija kamere"
   ]
  },
  {
   "cell_type": "markdown",
   "metadata": {
    "deletable": false,
    "editable": false,
    "nbgrader": {
     "checksum": "789882f7f2d65a0e2f3189ec1d377e9e",
     "grade": false,
     "grade_id": "cell-8cad3a9400118211",
     "locked": true,
     "schema_version": 1,
     "solution": false
    }
   },
   "source": [
    "1. Napišite funkcijo, ki za dane optimalne parametre geometrijske kalibracije `iPar` normalizira zajeto sliko `iImage` v metrični prostor:\n",
    "```python\n",
    "    def geomCalibImage( iPar, iImage, iCoorX, iCoorY ):\n",
    "        return oImage\n",
    "```\n",
    "kjer spremenljivki `iCoorX` in `iCoorY` predstavljata koordinate točk $(x,y)$ **v metričnem prostoru**, ki jih je potrebno preslikati v prostor slike in določiti pripadajoče sivinske vrednosti. Funkcija vrne kalibrirano sliko `oImage`, katere dimenzije so podane glede na dimenzije vzorčnih točk $(x,y)$.\n",
    "\n",
    " Preverite delovanje funkcije tako, da vzorčne točke $(x,y)$ preslikate z optimalnimi parametri projektivne preslikave in modela radialnih distorzij. Predpostavite, da ima stranica kvadratnega polja kalibracijskega objekta dolžino 20 mm in ustvarite točke $(x,y)$ tako, da bo na izhodni kalibrirani sliki `oImage` velikost slikovnih elementov enaka $1/5\\,$ mm. Izvedite geometrijsko kalibracijo slike `data/calibration-object.jpg` tako, da s funkcijo za interpolacijo prvega reda `scipy.interpolate.interpn()` v preslikanih točkah poiščete nove sivinske vrednosti. Prikažite preslikano sliko, v kateri morajo biti vzorci v kalibru poravnani z osmi slike."
   ]
  },
  {
   "cell_type": "markdown",
   "metadata": {
    "deletable": false,
    "editable": false,
    "nbgrader": {
     "checksum": "0f87102045abf9128a0b81bd7d958d06",
     "grade": false,
     "grade_id": "cell-67dc9c4b11691b2e",
     "locked": true,
     "schema_version": 1,
     "solution": false
    }
   },
   "source": [
    "Naložite module in prilepite zahtevane funkcije iz vaj:"
   ]
  },
  {
   "cell_type": "code",
   "execution_count": null,
   "metadata": {
    "deletable": false,
    "nbgrader": {
     "checksum": "b3a40d0384036a3674d07187668c39c5",
     "grade": true,
     "grade_id": "cell-134fbbf5e550f42e",
     "locked": false,
     "points": 1,
     "schema_version": 1,
     "solution": true
    }
   },
   "outputs": [],
   "source": [
    "import numpy as np\n",
    "import matplotlib.pyplot as plt\n",
    "import PIL.Image as im\n",
    "from scipy.interpolate import interpn\n",
    "import cv2 as cv"
   ]
  },
  {
   "cell_type": "code",
   "execution_count": null,
   "metadata": {},
   "outputs": [],
   "source": [
    "def loadImage(iPath):\n",
    "    oImage = np.array(im.open(iPath))\n",
    "    if oImage.ndim == 3:\n",
    "        oImage = np.transpose(oImage, [2, 0, 1])\n",
    "    elif oImage.ndim == 2:\n",
    "        oImage = np.transpose(oImage, [1, 0])\n",
    "    return oImage\n",
    "\n",
    "def showImage(iImage, iTitle=''):\n",
    "    plt.figure()\n",
    "    plt.imshow(iImage, cmap = 'gray')\n",
    "    plt.suptitle(iTitle)\n",
    "    #plt.xlabel('x')\n",
    "    #plt.ylabel('y')\n",
    "\n",
    "def transProjective2D(iPar, iCoorX, iCoorY):\n",
    "    \"\"\"Funkcija za projektivno preslikavo\"\"\"\n",
    "    iPar = np.asarray(iPar)\n",
    "    iCoorX = np.asarray(iCoorX)\n",
    "    iCoorY = np.asarray(iCoorY)\n",
    "    if np.size(iCoorY) != np.size(iCoorX):\n",
    "        print(\"Stevilo X in Y koordinat razlicno!\")\n",
    "    # izvedi projektivno rpeslikava\n",
    "    # iPar = [a11, a12, tx, a21, a22, ty, px, py]\n",
    "    oDenom = iPar[6] * iCoorX + iPar[7] * iCoorY + 1\n",
    "    oCoorU = iPar[0] * iCoorX + iPar[1] * iCoorY + iPar[2]\n",
    "    oCoorV = iPar[3] * iCoorX + iPar[4] * iCoorY + iPar[5]\n",
    "    # vrni preslikane tocke\n",
    "    return oCoorU/oDenom, oCoorV/oDenom\n",
    "\n",
    "def transRadial(iK, iUc, iVc, iCoorU, iCoorV):\n",
    "    \"\"\"Funkcija za preslikavo z Brownovim modelom distorzij\"\"\"    \n",
    "    # Preveri vhodne podatke\n",
    "    iK = np.array(iK)\n",
    "    iCoorU = np.array(iCoorU)\n",
    "    iCoorV = np.array(iCoorV)\n",
    "    if np.size(iCoorU) != np.size(iCoorV):\n",
    "        print(\"Stevio U n V koordinat razlicno!\")\n",
    "    # odstej koordinate cenra\n",
    "    oCoorUd = iCoorU - iUc; oCoorVd = iCoorV - iVc\n",
    "    # pripravi izhone koordinate\n",
    "    sUd = np.max(np.abs(oCoorUd))\n",
    "    sVd = np.max(np.abs(oCoorVd))\n",
    "    \n",
    "    oCoorUd = oCoorUd / sUd\n",
    "    oCoorVd = oCoorVd / sVd\n",
    "    \n",
    "    # preracunaj radialna popacenja\n",
    "    R2 = oCoorUd**2.0 + oCoorVd **2.0\n",
    "    iK = iK.flatten()\n",
    "    oCoorRd = np.ones_like(oCoorUd)\n",
    "    \n",
    "    for i in range(iK.size):\n",
    "        oCoorRd = oCoorRd + iK[i]*(R2**(i+1))\n",
    "    # izracunaj izhodne koorniate\n",
    "    oCoorUd = oCoorUd * oCoorRd * sUd + iUc\n",
    "    oCoorVd = oCoorVd * oCoorRd * sVd + iVc\n",
    "    # END SOLUTION\n",
    "    return oCoorUd, oCoorVd\n",
    "\n",
    "def geomCalibTrans(iPar, iCoorX, iCoorY):\n",
    "    \"\"\"Funkcija za preslikavo tock (projektivna+radialne distorzije)\"\"\"\n",
    "    iParProj = iPar[0:8]\n",
    "    iParRad = iPar[8:]\n",
    "    #preslikava v prostor slike\n",
    "    iCoorUt, iCoorVt = transProjective2D(iParProj, iCoorX, iCoorY)\n",
    "    # korekcija radialnih distorzij\n",
    "    iCoorUt, iCoorVt = transRadial(iParRad[2:], iParRad[0], iParRad[1], iCoorUt, iCoorVt)\n",
    "    # vrni preslikane tocke\n",
    "    return iCoorUt, iCoorVt\n",
    "\n",
    "def colorToGray(iImage):\n",
    "    dtype = iImage.dtype\n",
    "    r = iImage[:,:,0].astype('float')\n",
    "    g = iImage[:,:,1].astype('float')\n",
    "    b = iImage[:,:,2].astype('float')\n",
    "    \n",
    "    return (r*0.299 + g*0.587 + b*0.114).astype(dtype)\n",
    "\n",
    "def mapAffineApprox2D(iPtsRef, iPtsMov):\n",
    "    \"\"\"Afina aproksimacijska poravnava\"\"\"\n",
    "    iPtsRef = np.matrix(iPtsRef) \n",
    "    iPtsMov = np.matrix(iPtsMov) \n",
    "    # po potrebi dodaj homogeno koordinato\n",
    "    iPtsRef = addHomCoord2D(iPtsRef)\n",
    "    iPtsMov = addHomCoord2D(iPtsMov)\n",
    "    # afina aproksimacija (s psevdoinverzom)\n",
    "    iPtsRef = iPtsRef.transpose()\n",
    "    iPtsMov = iPtsMov.transpose()            \n",
    "    # psevdoinverz\n",
    "    #oMat2D = np.dot(iPtsRef, np.linalg.pinv(iPtsMov))        \n",
    "    # psevdoinverz na dolgo in siroko:\n",
    "    oMat2D = iPtsRef * iPtsMov.transpose() * \\\n",
    "    np.linalg.inv( iPtsMov * iPtsMov.transpose() )\n",
    "    return oMat2D\n",
    "\n",
    "def addHomCoord2D(iPts):\n",
    "    if iPts.shape[-1] == 3:\n",
    "        return iPts\n",
    "    iPts = np.hstack((iPts, np.ones((iPts.shape[0], 1))))\n",
    "    return iPts\n",
    "\n",
    "def geomCalibErr(iPar, iCoorU, iCoorV, iCoorX, iCoorY):\n",
    "    \"\"\"Funkcija za izracun kalibracijske napake\"\"\"\n",
    "    iCoorUt, iCoorVt = geomCalibTrans(iPar, iCoorX, iCoorY)\n",
    "    #izracun napake poravnave\n",
    "    oErr2 = np.mean((iCoorU - iCoorUt)**2 + (iCoorV - iCoorVt)**2)\n",
    "    # vrni vrednost napake\n",
    "    return oErr2"
   ]
  },
  {
   "cell_type": "markdown",
   "metadata": {
    "deletable": false,
    "editable": false,
    "nbgrader": {
     "checksum": "c37a83e3fd55a15b578649b8bc1e3f31",
     "grade": false,
     "grade_id": "cell-27b4a6374428e9c4",
     "locked": true,
     "schema_version": 1,
     "solution": false
    }
   },
   "source": [
    "Implementirajte funkcijo `geomCalibImage`:"
   ]
  },
  {
   "cell_type": "code",
   "execution_count": null,
   "metadata": {
    "deletable": false,
    "nbgrader": {
     "checksum": "fa7ed3a6fe5629b562e62096ed36e0c1",
     "grade": true,
     "grade_id": "cell-4b7170f025132a49",
     "locked": false,
     "points": 3,
     "schema_version": 1,
     "solution": true
    }
   },
   "outputs": [],
   "source": [
    "def geomCalibImage(iPar, iImage, iCoorX, iCoorY):\n",
    "    \"\"\"Funkcija za normalizacijo slike po geometrijski kalibraciji\"\"\"\n",
    "    # YOUR CODE HERE\n",
    "    #oCoorU, oCoorV = transProjective2D(iPar, iCoorX, iCoorY)\n",
    "    oCoorUt, oCoorVt = transProjective2D(iPar, iCoorX, iCoorY)\n",
    "    #if iImage.shape[0] == 3:\n",
    "    #    iImage = np.transpose(iImage, (1, 2, 0))\n",
    "    #iImage = colorToGray(iImage)\n",
    "    dy = iImage.shape[0]\n",
    "    dx = iImage.shape[1]\n",
    "    s = 1\n",
    "    oImage = interpn((np.arange(dy), np.arange(dx)),\n",
    "                      iImage,\n",
    "                      (oCoorVt[::s,::s], oCoorUt[::s,::s]),\n",
    "                      method = \"linear\", bounds_error=False)\n",
    "    square = 100\n",
    "    #raise NotImplementedError()\n",
    "    return oImage[0:(10*square), 0:(14*square)]"
   ]
  },
  {
   "cell_type": "markdown",
   "metadata": {},
   "source": [
    " Preverite delovanje funkcije tako, da vzorčne točke $(x,y)$ preslikate z optimalnimi parametri projektivne preslikave in modela radialnih distorzij. Predpostavite, da ima stranica kvadratnega polja kalibracijskega objekta dolžino 20 mm in ustvarite točke $(x,y)$ tako, da bo na izhodni kalibrirani sliki `oImage` velikost slikovnih elementov enaka $1/5\\,$ mm. Izvedite geometrijsko kalibracijo slike `data/calibration-object.jpg` tako, da s funkcijo za interpolacijo prvega reda `scipy.interpolate.interpn()` v preslikanih točkah poiščete nove sivinske vrednosti. Prikažite preslikano sliko, v kateri morajo biti vzorci v kalibru poravnani z osmi slike."
   ]
  },
  {
   "cell_type": "code",
   "execution_count": null,
   "metadata": {
    "deletable": false,
    "nbgrader": {
     "checksum": "095d03a6674d6c40de8ba2b2152f95fa",
     "grade": true,
     "grade_id": "cell-a2d31cb036c94c7b",
     "locked": false,
     "points": 2,
     "schema_version": 1,
     "solution": true
    }
   },
   "outputs": [],
   "source": [
    "# Primer parametrov\n",
    "iCalImage = loadImage('data/calibration-object.jpg')\n",
    "iPar = [4.452, -0.349, 34.207, -0.709,\n",
    "        3.352, 211.927, 2.459e-04, -1.348e-03,\n",
    "        1963.270, 1478.125, 1.101e-03]\n",
    "# YOUR CODE HERE\n",
    "#points = [(110.28629032258064, 266.0322580645163), (645.2258064516128, 177.4032258064517),\n",
    "#          (1151.6774193548385, 88.77419354838707), (1240.3064516129032, 389.47983870967755),\n",
    "#          (1373.2499999999998, 772.4838709677421), (752.8467741935483, 905.4274193548388),\n",
    "#          (81.79838709677418, 1054.1975806451615), (94.45967741935479, 604.7217741935485)]\n",
    "#pts = np.array(points)\n",
    "iCalImage = np.transpose(iCalImage, (1, 2, 0))\n",
    "iCalImage_g = colorToGray(iCalImage)\n",
    "showImage(iCalImage, 'Originalna slika')\n",
    "# ustvari mrezo tock\n",
    "iCoorX, iCoorY = np.meshgrid(range(iCalImage_g.shape[1]), \n",
    "                             range(iCalImage_g.shape[0]),\n",
    "                             sparse=False, indexing='xy')\n",
    "iCoorX = iCoorX / 5\n",
    "iCoorY = iCoorY / 5\n",
    "oImage = geomCalibImage(iPar, iCalImage_g, iCoorX, iCoorY)\n",
    "showImage(oImage, 'Kalibrirana slika')\n",
    "#raise NotImplementedError()"
   ]
  },
  {
   "cell_type": "markdown",
   "metadata": {
    "deletable": false,
    "editable": false,
    "nbgrader": {
     "checksum": "f81e8833dd34f5cdc916585217bd0b65",
     "grade": false,
     "grade_id": "cell-bf91de759bcf3a03",
     "locked": true,
     "schema_version": 1,
     "solution": false
    }
   },
   "source": [
    "2. Barvno sliko objekta `data/test-object.jpg`, ki je bila zajeta z istim slikovnim sistemom kot slika kalibra, kalibrirajte z referenčno geometrijsko kalibracijo tako, da bo velikost slikovnega elementa enaka $1/3\\,$ mm. Prikažite kalibrirano barvno sliko in nato na merilu označite daljico med kljunoma kljunastega merila ter izračunajte njeno dolžino v mm. Preverite ali dolžina ustreza dolžini, ki je označena na kljunastem merilu.\n"
   ]
  },
  {
   "cell_type": "code",
   "execution_count": null,
   "metadata": {
    "deletable": false,
    "nbgrader": {
     "checksum": "1447d526cd12581c483f4c1d913ab200",
     "grade": true,
     "grade_id": "cell-361bbc4681ce987c",
     "locked": false,
     "points": 3,
     "schema_version": 1,
     "solution": true
    }
   },
   "outputs": [],
   "source": [
    "# Kalibrirajte sliko, jo prikazite in na njej oznacite tocki, \n",
    "# ki dolocata razdaljo med kljunoma\n",
    "# YOUR CODE HERE\n",
    "iPar = [4.452, -0.349, 34.207, -0.709,\n",
    "        3.352, 211.927, 2.459e-04, -1.348e-03,\n",
    "        1963.270, 1478.125, 1.101e-03]\n",
    "iTestImage = loadImage('data/test-object.jpg')\n",
    "iTestImage = np.transpose(iTestImage, (1, 2, 0))\n",
    "iTestImage_g = colorToGray(iTestImage)\n",
    "showImage(iTestImage, 'Originalna slika')\n",
    "# ustvari mrezo tock\n",
    "iCoorX, iCoorY = np.meshgrid(range(iTestImage_g.shape[1]), \n",
    "                             range(iTestImage_g.shape[0]),\n",
    "                             sparse=False, indexing='xy')\n",
    "iCoorX = iCoorX / 3\n",
    "iCoorY = iCoorY / 3\n",
    "oImageT = geomCalibImage(iPar, iTestImage_g, iCoorX, iCoorY)\n",
    "showImage(oImageT, 'Kalibrirana slika')\n",
    "#raise NotImplementedError()"
   ]
  },
  {
   "cell_type": "code",
   "execution_count": null,
   "metadata": {},
   "outputs": [],
   "source": [
    "# Izracunajte in izpisite izmerejeno razdaljo med kljunoma\n",
    "# YOUR CODE HERE\n",
    "'''\n",
    "tocke sem dobila s pomocjo skripte select_points_calib.py iz vaj\n",
    "'''\n",
    "\n",
    "kljun_10 = [[(263.44952505122, 445.7008499974602), (359.36039384344474, 420.25510929748225)],\n",
    "            [(263.44952505122, 445.7008499974602), (359.36039384344474, 422.2124739667113)],\n",
    "            [(265.40688972044904, 445.7008499974602), (359.36039384344474, 422.2124739667113)],\n",
    "            [(263.44952505122, 445.7008499974602), (359.36039384344474, 422.2124739667113)],\n",
    "            [(265.40688972044904, 445.7008499974602), (359.36039384344474, 420.25510929748225)],\n",
    "            [(261.49216038199086, 443.74348532823115), (359.36039384344474, 422.2124739667113)],\n",
    "            [(263.44952505122, 441.7861206590021), (359.36039384344474, 422.2124739667113)],\n",
    "            [(263.44952505122, 445.7008499974602), (359.36039384344474, 420.25510929748225)],\n",
    "            [(265.40688972044904, 445.7008499974602), (359.36039384344474, 420.25510929748225)],\n",
    "            [(263.44952505122, 445.7008499974602), (359.36039384344474, 422.2124739667113)]]\n",
    "\n",
    "kljun = np.mean(np.array(kljun_10), axis=0)\n",
    "kljun = [tuple(coord) for coord in kljun]\n",
    "\n",
    "x1 = kljun[0][0]\n",
    "y1 = kljun[0][1]\n",
    "x2 = kljun[1][0]\n",
    "y2 = kljun[1][1]\n",
    "\n",
    "dx = x2 - x1\n",
    "dy = y2 - y1\n",
    "dst = np.sqrt(dx**2 + dy**2)\n",
    "print('razdalja: ' + str(dst / 3) + 'mm')\n",
    "print('Dolžina približno ustreza dolžini, ki je označena na kljunastem merilu.')\n",
    "\n",
    "cv.line(oImageT, ([int(x1), int(y1)]), ([int(x2), int(y2)]), (255, 0, 0), 5)\n",
    "showImage(oImageT)\n",
    "#raise NotImplementedError()"
   ]
  },
  {
   "cell_type": "markdown",
   "metadata": {
    "deletable": false,
    "editable": false,
    "nbgrader": {
     "checksum": "20df5f82b466350cb826d48001139d48",
     "grade": false,
     "grade_id": "cell-9e7763f93ec22c97",
     "locked": true,
     "schema_version": 1,
     "solution": false
    }
   },
   "source": [
    "3. Geometrijsko kalibracijo ponovite $3\\times$ tako, da najprej $3\\times$ ročno označite oglišča na sliki s kalibracijskim objektom `data/calibration-object.jpg`. Referenčno geometrijsko kalibracijo nato določite glede na povprečne koordinate teh oglišč. Na podlagi referenčne geometrijske kalibracije ocenite točnost geometrijske kalibracije z ročno označenimi oglišči (tiste geometrijske kalibracije, ki ste jo izračunali na vajah) v milimetrih. Od česa zavisi točnost geometrijske kalibracije?"
   ]
  },
  {
   "cell_type": "code",
   "execution_count": null,
   "metadata": {
    "deletable": false,
    "nbgrader": {
     "checksum": "e9720d04ee03ae5e25278f41e67e31c8",
     "grade": true,
     "grade_id": "cell-25a79bc0a0299980",
     "locked": false,
     "points": 1,
     "schema_version": 1,
     "solution": true
    }
   },
   "outputs": [],
   "source": [
    "# Oznacite oglisca na sliki (vsako oglisce 3 krat)\n",
    "# YOUR CODE HERE\n",
    "'''\n",
    "tocke sem dobila s pomocjo skripte select_points_calib.py iz vaj\n",
    "'''\n",
    "oglisca_3 = [[(116.6471748590393, 265.62330042838516), (645.1356355508896, 173.62716097461862), (1142.3062615350746, 89.46048019776845),\n",
    "              (1244.0892243349867, 388.937274589817), (1375.2326571733347, 766.7086557510287), (750.8333276892596, 903.724182597064),\n",
    "              (79.45724614368692, 1046.6118034507865), (99.03089283597762, 608.1621175434735)],\n",
    "             [(116.6471748590393, 263.6659357591561), (645.1356355508896, 175.58452564384766), (1142.3062615350746, 89.46048019776845),\n",
    "              (1246.0465890042155, 386.97990992058794), (1375.2326571733347, 762.7939264125705), (750.8333276892596, 901.7668179278348),\n",
    "              (79.45724614368692, 1046.6118034507865), (97.07352816674859, 608.1621175434735)],\n",
    "             [(116.6471748590393, 265.62330042838516), (649.0503648893479, 175.58452564384766), (1144.2636262043038, 87.50311552853941),\n",
    "              (1244.0892243349867, 386.97990992058794), (1373.2752925041054, 762.7939264125705), (750.8333276892596, 901.7668179278348),\n",
    "              (79.45724614368692, 1044.6544387815575), (97.07352816674859, 608.1621175434735)]]\n",
    "\n",
    "points = [(116.61693548387095, 266.0322580645163),\n",
    "          (645.2258064516128, 171.07258064516145),\n",
    "          (1139.0161290322578, 82.44354838709683),\n",
    "          (1243.4717741935483, 386.3145161290323),\n",
    "          (1370.0846774193546, 762.9879032258066),\n",
    "          (752.8467741935483, 902.2620967741937),\n",
    "          (81.79838709677418, 1047.8669354838712),\n",
    "          (100.79032258064515, 607.8870967741937)] #rocno oznacena ogljisca z vaj\n",
    "#raise NotImplementedError()"
   ]
  },
  {
   "cell_type": "code",
   "execution_count": null,
   "metadata": {
    "deletable": false,
    "nbgrader": {
     "checksum": "9ea763446a827d7dd879e819cad5c58c",
     "grade": true,
     "grade_id": "cell-3d093b2e6680409d",
     "locked": false,
     "points": 1,
     "schema_version": 1,
     "solution": true
    }
   },
   "outputs": [],
   "source": [
    "# Izracunajte povprecje oglisc in iz dobljenih povprecnih oglisc\n",
    "# izracunajte geometrijsko kalibracijo\n",
    "# YOUR CODE HERE\n",
    "oglisca = np.mean(np.array(oglisca_3), axis=0)\n",
    "oglisca = [tuple(coord) for coord in oglisca]\n",
    "print('povprecna oglisca:', oglisca)\n",
    "\n",
    "pts = np.array(oglisca)\n",
    "iCalImageG = colorToGray(iCalImage)\n",
    "showImage(iCalImageG, 'Slika kalibra')\n",
    "plt.plot(pts[:, 0], pts[:, 1], 'or', markersize=5.0)        \n",
    "# koordinate v prostoru slike\n",
    "iCoorU = pts[:, 0].flatten()\n",
    "iCoorV = pts[:, 1].flatten()\n",
    "# koordinate kalibra v metricnem prostoru\n",
    "iCoorX = np.array([20, 140, 260, 260, 260, 140,  20,  20])\n",
    "iCoorY = np.array([20,  20,  20, 100, 180, 180, 180, 100])\n",
    "# oblikuj koordinate v matrike (Nx2)\n",
    "ptsUV = np.vstack((iCoorU, iCoorV)).transpose()\n",
    "ptsXY = np.vstack((iCoorX, iCoorY)).transpose()\n",
    "# doloci zacetni priblizek parametrov\n",
    "oMatA = mapAffineApprox2D(ptsUV, ptsXY)\n",
    "#    oMatA = rvlib.mapAffineApprox2D( ptsXY, ptsUV )\n",
    "# preslikava identiteta\n",
    "Uc = iCalImageG.shape[1] / 2\n",
    "Vc = iCalImageG.shape[0] / 2\n",
    "iParIdent = np.array([1, 0, 0, 0, 1, 0, 0, 0, Uc, Vc, 0])\n",
    "# preslikava z afinim priblizkom\n",
    "Uc = iCalImageG.shape[1] / 2\n",
    "Vc = iCalImageG.shape[0] / 2\n",
    "iParAffine = np.array([oMatA[0, 0], oMatA[0, 1], oMatA[0, 2],\\\n",
    "                       oMatA[1, 0], oMatA[1, 1], oMatA[1, 2],\\\n",
    "                       0, 0, Uc, Vc, 0])\n",
    "# doloci napako z danimi parametri\n",
    "oErr2ident_3 = geomCalibErr(iParIdent, iCoorU, iCoorV, iCoorX, iCoorY)\n",
    "oErr2affine_3 = geomCalibErr(iParAffine, iCoorU, iCoorV, iCoorX, iCoorY)\n",
    "#print('ident err:', oErr2ident_3)\n",
    "#print('affine err:', oErr2affine_3)\n",
    "\n",
    "err_ref = oErr2affine_3\n",
    "#raise NotImplementedError()"
   ]
  },
  {
   "cell_type": "code",
   "execution_count": null,
   "metadata": {
    "deletable": false,
    "nbgrader": {
     "checksum": "45e155d54cdcc49279fcbaf203bd76e1",
     "grade": true,
     "grade_id": "cell-9418c0e4370822be",
     "locked": false,
     "points": 1,
     "schema_version": 1,
     "solution": true
    }
   },
   "outputs": [],
   "source": [
    "# Z dobljeno referencno kalibracijo ocenite tocnost \n",
    "# geometrijske kalibracije iz vaj v milimetrih\n",
    "# YOUR CODE HERE\n",
    "pts = np.array(points)\n",
    "iCalImageG = colorToGray(iCalImage)\n",
    "showImage(iCalImageG, 'Slika kalibra')\n",
    "plt.plot(pts[:, 0], pts[:, 1], 'or', markersize=5.0)        \n",
    "# koordinate v prostoru slike\n",
    "iCoorU = pts[:, 0].flatten()\n",
    "iCoorV = pts[:, 1].flatten()\n",
    "# koordinate kalibra v metricnem prostoru\n",
    "iCoorX = np.array([20, 140, 260, 260, 260, 140,  20,  20])\n",
    "iCoorY = np.array([20,  20,  20, 100, 180, 180, 180, 100])\n",
    "# oblikuj koordinate v matrike (Nx2)\n",
    "ptsUV = np.vstack((iCoorU, iCoorV)).transpose()\n",
    "ptsXY = np.vstack((iCoorX, iCoorY)).transpose()\n",
    "# doloci zacetni priblizek parametrov\n",
    "oMatA = mapAffineApprox2D(ptsUV, ptsXY)\n",
    "#    oMatA = rvlib.mapAffineApprox2D( ptsXY, ptsUV )\n",
    "# preslikava identiteta\n",
    "Uc = iCalImageG.shape[1] / 2\n",
    "Vc = iCalImageG.shape[0] / 2\n",
    "iParIdent = np.array([1, 0, 0, 0, 1, 0, 0, 0, Uc, Vc, 0])\n",
    "# preslikava z afinim priblizkom\n",
    "Uc = iCalImageG.shape[1] / 2\n",
    "Vc = iCalImageG.shape[0] / 2\n",
    "iParAffine = np.array([oMatA[0, 0], oMatA[0, 1], oMatA[0, 2],\\\n",
    "                       oMatA[1, 0], oMatA[1, 1], oMatA[1, 2],\\\n",
    "                       0, 0, Uc, Vc, 0])\n",
    "# doloci napako z danimi parametri\n",
    "oErr2ident_1 = geomCalibErr(iParIdent, iCoorU, iCoorV, iCoorX, iCoorY)\n",
    "oErr2affine_1 = geomCalibErr(iParAffine, iCoorU, iCoorV, iCoorX, iCoorY)\n",
    "#print('ident err:', oErr2ident_1)\n",
    "#print('affine err:', oErr2affine_1)\n",
    "\n",
    "err_vaje = oErr2affine_1\n",
    "\n",
    "print('napaka kalibracije iz vaj glede na referencno kalibracijo:', err_ref - err_vaje)\n",
    "#raise NotImplementedError()"
   ]
  },
  {
   "cell_type": "markdown",
   "metadata": {
    "deletable": false,
    "editable": false,
    "nbgrader": {
     "checksum": "bf8a3f48e962e72f6d74f380e1032250",
     "grade": false,
     "grade_id": "cell-f0485e4a331e7cc1",
     "locked": true,
     "schema_version": 1,
     "solution": false
    }
   },
   "source": [
    "Od česa zavisi točnost kalibracije?"
   ]
  },
  {
   "cell_type": "markdown",
   "metadata": {
    "deletable": false,
    "nbgrader": {
     "checksum": "36067697f15407336fb13b6f068d67e8",
     "grade": true,
     "grade_id": "cell-da297bf765b83832",
     "locked": false,
     "points": 1,
     "schema_version": 1,
     "solution": true
    }
   },
   "source": [
    "od točnosti izbire točk na šahovnici"
   ]
  },
  {
   "cell_type": "markdown",
   "metadata": {
    "deletable": false,
    "editable": false,
    "nbgrader": {
     "checksum": "07872be317b8b372fdff52da049e7695",
     "grade": false,
     "grade_id": "cell-589ff470fbaf1707",
     "locked": true,
     "schema_version": 1,
     "solution": false
    }
   },
   "source": [
    "4. Razvijte avtomatski postopek za geometrijsko kalibracijo slikovnega sistema. S pomočjo Harrisovega detektorja oglišč iz knjižnice OpenCV (Vaja 4) poiščite oglišča na sliki kalibra `data/calibration-object.jpg`. Nato pa s funkcijo `cv2.cornerSubPix()` še dodatno izpopolnite položaj oglišč. Ustvarite idealno mrežo referenčnih oglišč in s postopkom ICP (Vaja 5) ter afino preslikavo določite korespondence z zaznanimi oglišči na sliki kalibra. Določite natančnost avtomatske v primerjavi z referenčno geometrijsko kalibracijo v mm. Poizkusite izboljšati natančnost kalibracije še tako, da avtomatsko glede na lastne pogoje zavržete korespondence, ki slabšajo kalibracijo."
   ]
  },
  {
   "cell_type": "code",
   "execution_count": null,
   "metadata": {},
   "outputs": [],
   "source": [
    "deg2rad = lambda a: a*np.pi/180\n",
    "\n",
    "def transAffine2D(iScale=(1, 1), iTrans=(0, 0), iRot=0, iShear=(0, 0)):\n",
    "    iRot = deg2rad(iRot)\n",
    "    oMatScale = np.array([[iScale[0],         0, 0],\n",
    "                          [        0, iScale[1], 0],\n",
    "                          [        0,         0, 1]])\n",
    "    oMatTrans = np.array([[1, 0, iTrans[0]],\n",
    "                          [0, 1, iTrans[1]],\n",
    "                          [0, 0,         1]])\n",
    "    oMatRot = np.array([[np.cos(iRot), -np.sin(iRot), 0],\n",
    "                        [np.sin(iRot),  np.cos(iRot), 0],\n",
    "                        [           0,             0, 1]])\n",
    "    oMatShear = np.array([[        1, iShear[0], 0],\n",
    "                          [iShear[1],         1, 0],\n",
    "                          [        0,         0, 1]])\n",
    "    oMat2D = np.dot(oMatTrans, np.dot(oMatShear, np.dot(oMatRot, oMatScale)))\n",
    "    return oMat2D\n",
    "\n",
    "def addHomCoord2D(iPts):\n",
    "    if iPts.shape[-1] == 3:\n",
    "        return iPts\n",
    "    iPts = np.hstack((iPts, np.ones((iPts.shape[0], 1))))\n",
    "    return iPts\n",
    "\n",
    "def mapAffineApprox2D(iPtsRef, iPtsMov): # referencne = U\n",
    "    \"\"\"Afina aproksimacijska poravnava\"\"\"\n",
    "    # U = TX\n",
    "    # UX'(XX')^(-1) = T\n",
    "    iPtsRef = np.matrix(iPtsRef) # U\n",
    "    iPtsMov = np.matrix(iPtsMov) # X\n",
    "    # po potrebi dodaj homogeno koordinato\n",
    "    iPtsRef = addHomCoord2D(iPtsRef)\n",
    "    iPtsMov = addHomCoord2D(iPtsMov)\n",
    "    #afina aproksimacia (s psevdoinvrzom XX')\n",
    "    iPtsRef = iPtsRef.transpose()\n",
    "    iPtsMov = iPtsMov.transpose()\n",
    "    #psevdoinverz\n",
    "    oMat2D = np.dot(iPtsRef, np.linalg.pinv(iPtsMov))\n",
    "    #oMat2D = iPtsRef*iPtsMov.transpose() * np.linalg.inv(iPts......)\n",
    "    # Lahko uporabljamo *, ker imamo matrike. Če bi imeli array bi morali uporabljati np.dot \n",
    "    return oMat2D \n",
    "\n",
    "def findCorrespondingPoints(iPtsRef, iPtsMov):\n",
    "    \"\"\"Poisci korespondence kot najblizje tocke\"\"\"\n",
    "    # inicializiraj polje indeksov\n",
    "    iPtsMov = np.array(iPtsMov)\n",
    "    iPtsRef = np.array(iPtsRef)\n",
    "    \n",
    "    idxPair = -np.ones((iPtsRef.shape[0],1), dtype='int32')\n",
    "    idxDist = np.ones((iPtsRef.shape[0], iPtsMov.shape[0])) # za shranjevanje razdalij\n",
    "    \n",
    "    for i in range(iPtsRef.shape[0]):\n",
    "        for j in range(iPtsMov.shape[0]):\n",
    "            idxDist[i, j] = np.sum((iPtsRef[i, :2] - iPtsMov[j, :2])**2)\n",
    "    # doloci bijektivno preslikavo\n",
    "    while not np.all(idxDist == np.inf):\n",
    "        i, j = np.where(idxDist == np.min(idxDist))\n",
    "        idxPair[i[0]] = j[0]\n",
    "        idxDist[i[0], :] = np.inf # nasli smo match in smo dali vse ostale pare, ki vsebuje eno od teh tock na Inf\n",
    "        idxDist[:, j[0]] = np.inf\n",
    "    # doloci pare tock\n",
    "    idxValid, idxNotValid = np.where(idxPair >= 0)\n",
    "    idxValid = np.array(idxValid)\n",
    "    iPtsRef_t = iPtsRef[idxValid, :]\n",
    "    iPtsMov_t = iPtsMov[idxPair[idxValid].flatten(), :]\n",
    "    return iPtsRef_t, iPtsMov_t\n",
    "\n",
    "def alignICP(iPtsRef, iPtsMov, iEps=1e-6, iMaxIter=50, plotProgress=False):\n",
    "    \"\"\"Postopek iterativno najblizje tocke\"\"\"\n",
    "    # inicializiraj izhodne parametre\n",
    "    curMat = [] # seznam za shranjevanje matrik na vsakem koraku\n",
    "    oErr = []\n",
    "    iCurIter = 0\n",
    "    if plotProgress:\n",
    "        iPtsMov0 = np.matrix(iPtsMov)\n",
    "        fig = plt.figure()\n",
    "        ax = fig.add_subplot(111)\n",
    "    \n",
    "    #zacni iterativni postopek\n",
    "    while True:\n",
    "        #poisci korespondencn tocke\n",
    "        iPtsRef_t, iPtsMov_t = findCorrespondingPoints(iPtsRef, iPtsMov)\n",
    "        #doloci afino aproskimacijsko preslkavo \n",
    "        oMat2D = mapAffineApprox2D(iPtsRef_t, iPtsMov_t)\n",
    "        #pososdobi posamezne tocke\n",
    "        iPtsMov = np.dot(addHomCoord2D(iPtsMov), oMat2D.transpose())\n",
    "        # izracunaj napako\n",
    "        curMat.append(oMat2D)\n",
    "        oErr.append(np.sqrt(np.sum((iPtsRef_t[:, :2] - iPtsMov_t[:, :2])**2)))\n",
    "        iCurIter +=1\n",
    "        # preveri kontroln parametre\n",
    "        dMat = np.abs(oMat2D - transAffine2D())\n",
    "        if iCurIter > iMaxIter or np.all(dMat < iEps):\n",
    "            break\n",
    "    # doloci kompozitum preslikav\n",
    "    oMat2D = transAffine2D()\n",
    "    for i in range(len(curMat)):\n",
    "        if plotProgress:\n",
    "            iPtsMov_t = np.dot(addHomCoord2D(iPtsMov0), oMat2D.transpose())\n",
    "            ax.clear()\n",
    "            ax.plot(iPtsRef[:, 0], iPtsRef[:, 1], 'ob')\n",
    "            ax.plot(iPtsMov_t[:, 0], iPtsMov_t[:, 1], 'om')\n",
    "            fig.canvas.draw()\n",
    "            plt.pause(1)\n",
    "        oMat2D = np.dot(curMat[i], oMat2D)\n",
    "    return oMat2D, oErr"
   ]
  },
  {
   "cell_type": "code",
   "execution_count": null,
   "metadata": {},
   "outputs": [],
   "source": [
    "# YOUR CODE HERE\n",
    "img = cv.cvtColor(cv.imread('data/calibration-object.jpg'), cv.COLOR_BGR2RGB)\n",
    "showImage(img, 'Originalna slika')\n",
    "img_g = np.float32(cv.cvtColor(img, cv.COLOR_RGB2GRAY))\n",
    "#showImage(img_g, 'Sivinska slika')\n",
    "corners = cv.cornerHarris(img_g, 2, 3, 0.04)\n",
    "corners = cv.dilate(corners, None)\n",
    "idx = (corners > 0.01 * corners.max())\n",
    "img[idx] = [255, 0, 0]\n",
    "showImage(img, 'Oglišča')\n",
    "#raise NotImplementedError()"
   ]
  },
  {
   "cell_type": "code",
   "execution_count": null,
   "metadata": {},
   "outputs": [],
   "source": [
    "img = cv.cvtColor(cv.imread('data/calibration-object.jpg'), cv.COLOR_BGR2RGB)\n",
    "showImage(img, 'Originalna slika')\n",
    "img_g = np.float32(cv.cvtColor(img, cv.COLOR_RGB2GRAY))\n",
    "#showImage(img_g, 'Sivinska slika')\n",
    "dst = cv.cornerHarris(img_g, 2, 3, 0.04)\n",
    "dst = cv.dilate(dst, None)\n",
    "ret, dst = cv.threshold(dst, 0.01 * dst.max(), 255, 0)\n",
    "dst = np.uint8(dst)\n",
    "ret, labels, stats, centroids = cv.connectedComponentsWithStats(dst)\n",
    "criteria = (cv.TERM_CRITERIA_EPS + cv.TERM_CRITERIA_MAX_ITER, 100, 0.001)\n",
    "corners = cv.cornerSubPix(img_g, np.float32(centroids), (5, 5), (-1, -1), criteria)\n",
    "res = np.hstack((centroids, corners))\n",
    "res = np.int0(res)\n",
    "img[res[:, 1], res[:, 0]] = [255, 0, 0]\n",
    "img[res[:, 3], res[:, 2]] = [0, 255, 0]\n",
    "idxR = (img[:, :, 0] == 255)\n",
    "idxG = (img[:, :, 1] == 0)\n",
    "idxB = (img[:, :, 2] == 0)\n",
    "idx1 = np.logical_and(idxR, idxG, idxB)\n",
    "unique1, counts1 = np.unique(idx1, return_counts=True)\n",
    "#print(unique1, counts1)\n",
    "idxR = (img[:, :, 0] == 0)\n",
    "idxG = (img[:, :, 1] == 255)\n",
    "idxB = (img[:, :, 2] == 0)\n",
    "idx2 = np.logical_and(idxR, idxG, idxB)\n",
    "unique2, counts2 = np.unique(idx2, return_counts=True)\n",
    "#print(unique2, counts2)\n",
    "pointsMov = []\n",
    "for i in range(len(idx1)):\n",
    "    for j in range(i):\n",
    "        if idx1[j, i]:\n",
    "            cv.circle(img, (i, j), 5, (255, 0, 0), -1)\n",
    "            pointsMov.append([i, j])\n",
    "pointsMov = np.array(pointsMov)\n",
    "showImage(img, 'Oglišča')\n",
    "\n",
    "iCoorX = np.array([0, 100, 200, 300, 400, 500, 600, 700, 800, 900, 1000, 1100, 1200, 1300, 1400])\n",
    "iCoorY = np.array([0, 100, 200, 300, 400, 500, 600, 700, 800, 900, 1000])\n",
    "xx, yy = np.meshgrid(iCoorX, iCoorY)\n",
    "x_vec = xx.flatten()\n",
    "y_vec = yy.flatten()\n",
    "pointsRef = [[x, y] for x, y in zip(x_vec, y_vec)]\n",
    "pointsRef = np.array(pointsRef)\n",
    "\n",
    "oMat2D_t, oErr = alignICP(pointsRef, pointsMov, iEps=1e-6, iMaxIter=100, plotProgress=False)\n",
    "\n",
    "pointsMov_t = np.dot(addHomCoord2D(pointsMov), oMat2D_t.transpose())\n",
    "plt.figure()\n",
    "plt.plot(pointsRef[:, 0], pointsRef[:, 1], 'or', markersize=3.0)\n",
    "plt.plot(pointsMov[:, 0], pointsMov[:, 1], 'ob', markersize=5.0)\n",
    "plt.plot(pointsMov_t[:, 0], pointsMov_t[:, 1], 'om', markersize=5.0)"
   ]
  },
  {
   "cell_type": "markdown",
   "metadata": {
    "deletable": false,
    "editable": false,
    "nbgrader": {
     "checksum": "7b5d5df1d87bb43bafadc7364db363c3",
     "grade": false,
     "grade_id": "cell-912459835ce620dd",
     "locked": true,
     "schema_version": 1,
     "solution": false
    }
   },
   "source": [
    "![Primer kalibracije](images/RV_7_SLO_PrimerKalibracije.png)"
   ]
  }
 ],
 "metadata": {
  "kernelspec": {
   "display_name": "Python 3",
   "language": "python",
   "name": "python3"
  },
  "language_info": {
   "codemirror_mode": {
    "name": "ipython",
    "version": 3
   },
   "file_extension": ".py",
   "mimetype": "text/x-python",
   "name": "python",
   "nbconvert_exporter": "python",
   "pygments_lexer": "ipython3",
   "version": "3.10.10"
  }
 },
 "nbformat": 4,
 "nbformat_minor": 2
}
