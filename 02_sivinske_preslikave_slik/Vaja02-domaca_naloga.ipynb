{
 "cells": [
  {
   "cell_type": "markdown",
   "metadata": {},
   "source": [
    "Before you turn this problem in, make sure everything runs as expected. First, **restart the kernel** (in the menubar, select Kernel$\\rightarrow$Restart) and then **run all cells** (in the menubar, select Cell$\\rightarrow$Run All).\n",
    "\n",
    "Make sure you fill in any place that says `YOUR CODE HERE` or \"YOUR ANSWER HERE\", as well as your name and collaborators below:"
   ]
  },
  {
   "cell_type": "code",
   "execution_count": null,
   "metadata": {},
   "outputs": [],
   "source": [
    "NAME = \"Anamarija Hauptman\"\n",
    "COLLABORATORS = \"\""
   ]
  },
  {
   "cell_type": "markdown",
   "metadata": {},
   "source": [
    "---"
   ]
  },
  {
   "cell_type": "markdown",
   "metadata": {
    "deletable": false,
    "editable": false,
    "nbgrader": {
     "checksum": "efbc84265e8f6cd0a662db4ca5e336e6",
     "grade": false,
     "grade_id": "cell-ac3a430b56820c1c",
     "locked": true,
     "schema_version": 1,
     "solution": false
    }
   },
   "source": [
    "# Domača naloga 2: Sivinske preslikave slik\n",
    "1. Napišite funkcijo `makeNegativeImage`, ki preslika najtemnejšo vrednost na sliki v najsvetlješo vrednost na sliki in obratno. Preslikava naj bo linearna: $s(x, y) = a r(x, y) + b$. Funkcija naj sprejeme sliko in vrne preslikano sliko. Tako preslikano sliko imenujemo *negativ*."
   ]
  },
  {
   "cell_type": "code",
   "execution_count": null,
   "metadata": {},
   "outputs": [],
   "source": [
    "# naložite module\n",
    "#import rvlib as rv\n",
    "import numpy as np\n",
    "import PIL.Image as Image\n",
    "import matplotlib.pyplot as plt\n",
    "from nose.tools import assert_equal, assert_almost_equal"
   ]
  },
  {
   "cell_type": "code",
   "execution_count": null,
   "metadata": {
    "deletable": false,
    "nbgrader": {
     "checksum": "b83a9c7083f446621c87d8e4361d426e",
     "grade": false,
     "grade_id": "cell-3f99a46f75bf0ff5",
     "locked": false,
     "schema_version": 1,
     "solution": true
    }
   },
   "outputs": [],
   "source": [
    "def makeNegativeImage(image):\n",
    "    #your code here\n",
    "    negative_image = np.zeros_like(image)\n",
    "    negative_image[:, :] = 255 - image[:, :]\n",
    "    return negative_image"
   ]
  },
  {
   "cell_type": "code",
   "execution_count": null,
   "metadata": {
    "deletable": false,
    "editable": false,
    "nbgrader": {
     "checksum": "3316eb109e19293e6673c2fb4929b3c1",
     "grade": true,
     "grade_id": "cell-e4f13e054dcea6c4",
     "locked": true,
     "points": 1,
     "schema_version": 1,
     "solution": false
    }
   },
   "outputs": [],
   "source": [
    "test_image = (np.random.rand(32, 32) * 256).astype('uint8')\n",
    "test_negative = makeNegativeImage(test_image)\n",
    "max_ix_orig = np.argmax(test_image)\n",
    "min_ix_orig = np.argmin(test_image)\n",
    "max_ix_neg = np.argmax(test_negative)\n",
    "min_ix_neg = np.argmin(test_negative)\n",
    "# Indeks najmanjše vrednosti v začetni sliki mora biti enak indeksu največje vrednosti v preslikani sliki\n",
    "assert_equal(max_ix_orig, min_ix_neg)\n",
    "# In obratno\n",
    "assert_equal(min_ix_orig, max_ix_neg)\n",
    "# Seštevek originalne in preslikane slike mora biti slika, v kateri imajo vsi elementi vrednost 255\n",
    "assert(np.all(test_image + test_negative == 255))"
   ]
  },
  {
   "cell_type": "code",
   "execution_count": null,
   "metadata": {
    "deletable": false,
    "nbgrader": {
     "checksum": "09fe99f4f8634ac0c8a8b30b0d0dba6d",
     "grade": true,
     "grade_id": "cell-a7d01a4f733d322c",
     "locked": false,
     "points": 1,
     "schema_version": 1,
     "solution": true
    }
   },
   "outputs": [],
   "source": []
  },
  {
   "cell_type": "markdown",
   "metadata": {
    "deletable": false,
    "editable": false,
    "nbgrader": {
     "checksum": "5a2fb01297017c4dea0082e14b84edfa",
     "grade": false,
     "grade_id": "cell-753a69d55c1bab30",
     "locked": true,
     "schema_version": 1,
     "solution": false
    }
   },
   "source": [
    "2.  1. Napišite funkcijo `window_middle80_parameters`, ki izračuna vrednosti parametrov $c$ in $w$ sivinskega oknjenja tako, da iz slike odstrani 10% najtemnejših in 10% najsvetlejših slikovnih elementov. Funkcija naj vrne tuple parametrov $c$ in $w$: `(c, w)`.\n",
    "    2. Z dobljenimi parametri nato izračunajte oknjeno sliko in jo narišite."
   ]
  },
  {
   "cell_type": "code",
   "execution_count": null,
   "metadata": {
    "deletable": false,
    "nbgrader": {
     "checksum": "b9f0e30f18e7c1db7177df0181c79c48",
     "grade": false,
     "grade_id": "cell-ab820cc3b751bf83",
     "locked": false,
     "schema_version": 1,
     "solution": true
    }
   },
   "outputs": [],
   "source": [
    "# Implementirajte funkcijo\n",
    "def window_middle80_parameters(image):\n",
    "    #Xour code here\n",
    "    pix_no = image.shape[0] * image.shape[1]\n",
    "    image_1d = np.reshape(image, [1, pix_no])\n",
    "    image_1d = np.sort(image_1d)\n",
    "    min_v = image_1d[0, int(0.1 * pix_no) + 1]\n",
    "    max_v = image_1d[0, int(0.9 * pix_no) - 1]\n",
    "    w = (max_v - min_v) / 2\n",
    "    c = min_v + w\n",
    "    return c, w\n",
    "\n",
    "def scaleImage(iImage, iSlopeA, iIntersectionB):\n",
    "    dtype = iImage.dtype\n",
    "    oImage = iImage * iSlopeA + iIntersectionB\n",
    "    if dtype.kind in ('i', 'u'):\n",
    "        oImage = np.clip(oImage, np.iinfo(dtype).min, np.iinfo(dtype).max)\n",
    "    return oImage.astype(dtype)\n",
    "\n",
    "def windowImage(iImage, iCenter, iWidth):\n",
    "    dtype = iImage.dtype\n",
    "    if dtype.kind in ('i', 'u'):\n",
    "        iRange = np.iinfo(dtype).max - np.iinfo(dtype).min\n",
    "    else:\n",
    "        iRange = iImage.max() - iImage.min()\n",
    "    iSlope = iRange / iWidth\n",
    "    iIntersection = -iSlope * (float(iCenter) - iWidth / 2)\n",
    "    return scaleImage(iImage, iSlope, iIntersection)\n",
    "\n",
    "def showImage(image, iTitle=''):\n",
    "    plt.figure()\n",
    "    plt.imshow(image, cmap='gray')\n",
    "    plt.title(iTitle)\n",
    "    plt.show()\n",
    "\n",
    "def convertToGray(image):\n",
    "    #your code here:\n",
    "    oImage = np.zeros((image.shape[0], image.shape[1]))\n",
    "    oImage[:, :] = (0.299 * image[:, :, 0] + 0.587 * image[:, :, 1] + 0.114 * image[:, :, 2]).astype(np.uint8)\n",
    "    return oImage\n",
    "\n",
    "slika = Image.open(\"./data/slika.jpg\")\n",
    "slika = np.array(slika)\n",
    "slika_siva = convertToGray(slika)\n",
    "c, w = window_middle80_parameters(slika_siva)\n",
    "showImage(windowImage(slika_siva, c, w))"
   ]
  },
  {
   "cell_type": "code",
   "execution_count": null,
   "metadata": {
    "deletable": false,
    "editable": false,
    "nbgrader": {
     "checksum": "683bd17d33035b5e4aa9ecd3a899b6a0",
     "grade": true,
     "grade_id": "cell-cda105401e46a9b1",
     "locked": true,
     "points": 1,
     "schema_version": 1,
     "solution": false
    }
   },
   "outputs": [],
   "source": [
    "# Testi funkcije window_middle80_parameters\n",
    "test_image = np.zeros((10, 10), dtype='uint8')\n",
    "test_image[0, 0] = 127\n",
    "test_image[:, 1:-1] = 127\n",
    "test_image[:, -1] = 255\n",
    "test_image[-1, -1] = 127\n",
    "c, w = window_middle80_parameters(test_image)\n",
    "assert_almost_equal(c, 127)\n",
    "assert_almost_equal(w, 0)"
   ]
  },
  {
   "cell_type": "code",
   "execution_count": null,
   "metadata": {
    "deletable": false,
    "nbgrader": {
     "checksum": "9f36efd638207d43ef2c2794b82b173f",
     "grade": true,
     "grade_id": "cell-805f2a9337a21b3f",
     "locked": false,
     "points": 1,
     "schema_version": 1,
     "solution": true
    }
   },
   "outputs": [],
   "source": []
  },
  {
   "cell_type": "markdown",
   "metadata": {
    "deletable": false,
    "editable": false,
    "nbgrader": {
     "checksum": "99b4cacfe75f128ee5e096c2bc356daf",
     "grade": false,
     "grade_id": "cell-c7c5226aed3e6666",
     "locked": true,
     "schema_version": 1,
     "solution": false
    }
   },
   "source": [
    "3. 1. Napišite funkcijo ki določi prag $t$ za funkcijo upragovljanja tako, da bo natanko 50% najsvetlejših slikovnih elementov v vhodni sivinski sliki nad tem pragom. \n",
    "   2. Upragovljeno sliko prikažite."
   ]
  },
  {
   "cell_type": "code",
   "execution_count": null,
   "metadata": {
    "deletable": false,
    "nbgrader": {
     "checksum": "16a7c6262102dc80f70b9b46a548e566",
     "grade": false,
     "grade_id": "cell-0b2ce480544e6931",
     "locked": false,
     "schema_version": 1,
     "solution": true
    }
   },
   "outputs": [],
   "source": [
    "# Implementirajte funkcijo\n",
    "def calculate_threshold50(image):\n",
    "    #your code here\n",
    "    avg_px_val = np.mean(image)\n",
    "    return avg_px_val\n",
    "\n",
    "def thresholdImage(iImage, iThreshold):\n",
    "    dtype = iImage.dtype\n",
    "    #oImage = np.where(iImage > iThreshold, np.iinfo(dtype).max, 0)\n",
    "    oImage = 255 * np.array(iImage > iThreshold, dtype=np.uint8)\n",
    "    return oImage\n",
    "\n",
    "threshold = calculate_threshold50(slika_siva)\n",
    "showImage(thresholdImage(slika_siva, threshold))"
   ]
  },
  {
   "cell_type": "code",
   "execution_count": null,
   "metadata": {
    "deletable": false,
    "editable": false,
    "nbgrader": {
     "checksum": "13c81c135e20b5ab0de50fb2499b60db",
     "grade": true,
     "grade_id": "cell-f91b8159d13b754b",
     "locked": true,
     "points": 1,
     "schema_version": 1,
     "solution": false
    }
   },
   "outputs": [],
   "source": [
    "test_image = np.ones((10, 10))\n",
    "test_image[:, :5] = 0\n",
    "threshold = calculate_threshold50(test_image)\n",
    "assert(threshold > 0)\n",
    "assert(threshold < 1)"
   ]
  },
  {
   "cell_type": "code",
   "execution_count": null,
   "metadata": {
    "deletable": false,
    "nbgrader": {
     "checksum": "b4cbb332d2c38fc999041e109ef88a89",
     "grade": true,
     "grade_id": "cell-aff7839a5d39cc2a",
     "locked": false,
     "points": 1,
     "schema_version": 1,
     "solution": true
    }
   },
   "outputs": [],
   "source": [
    "\n"
   ]
  },
  {
   "cell_type": "markdown",
   "metadata": {
    "deletable": false,
    "editable": false,
    "nbgrader": {
     "checksum": "63e1e1f33fcde1d53758eaccae47c6fb",
     "grade": false,
     "grade_id": "cell-cfbe399cf6b41c4f",
     "locked": true,
     "schema_version": 1,
     "solution": false
    }
   },
   "source": [
    "4. 1. Napišite funkcijo `calculate_gamma_image` za gama sivinsko preslikavo $RGB$ barvne slike tako, da sliko najprej pretvorite v $HSV$ barvni prostor, nato izvedite gama preslikavo nad komponento $V$, in $HSV$ sliko pretvorite nazaj v $RGB$ barvni prostor. \n",
    "\n",
    "   2. Prikažite primera gama preslikanih barvnih slik za $\\gamma < 1$ in $\\gamma > 1$. \n",
    "\n",
    "   3. Ali ima tak način gama preslikave barvne slike enak vpliv na kontrast kot v primeru sivinske slike?"
   ]
  },
  {
   "cell_type": "code",
   "execution_count": null,
   "metadata": {
    "deletable": false,
    "nbgrader": {
     "checksum": "fff8b9e0bec1f59f7ade2bc2d1c58953",
     "grade": true,
     "grade_id": "cell-e842c386272dec62",
     "locked": false,
     "points": 1,
     "schema_version": 1,
     "solution": true
    }
   },
   "outputs": [],
   "source": [
    "def convertRGB2HSV(iImage): \n",
    "    iImage = iImage.astype('float')\n",
    "    iImage = iImage/255 # bo samo 8-bitna\n",
    "    r, g, b = iImage[:,:,0],iImage[:,:,1],iImage[:,:,2]\n",
    "    h = np.zeros_like(r)\n",
    "    s = np.zeros_like(r)\n",
    "    v = np.zeros_like(r)\n",
    "    Cmax = np.maximum(r, np.maximum(g,b))\n",
    "    Cmin = np.minimum(r, np.minimum(g,b))\n",
    "    delta = Cmax - Cmin + 1e-7\n",
    "    h[Cmax == r] = 60.0 * ((g[Cmax==r] - b[Cmax==r])/ delta[Cmax == r] % 6.0) # 60 deg\n",
    "    h[Cmax == g] = 60.0 * ((b[Cmax==g] - r[Cmax==g])/ delta[Cmax == g] + 2.0)\n",
    "    h[Cmax == b] = 60.0 * ((r[Cmax==b] - g[Cmax==b])/ delta[Cmax == b]  + 4.0)\n",
    "    s[delta!=0.0] = delta[delta!=0.0]/(Cmax[delta!=0.0] + 1e-7)\n",
    "    v = Cmax\n",
    "    # ustvari izhodno sliko\n",
    "    oImage = np.zeros_like(iImage)\n",
    "    oImage[:,:,0] = h\n",
    "    oImage[:,:,1] = s\n",
    "    oImage[:,:,2] = v\n",
    "    return oImage\n",
    "\n",
    "def convertHSV2RGB(iImage):\n",
    "    \"\"\"Pretvorba barvne slike iz barvnega prostora HSV v RGB\"\"\"\n",
    "    iImage = iImage.astype('float')\n",
    "    h, s, v = iImage[:,:,0], iImage[:,:,1], iImage[:,:,2]\n",
    "    C = v * s\n",
    "    X = C * (1.0 - np.abs(((h/60.0) % 2) -1))\n",
    "    m = v - C \n",
    "    r = np.zeros_like( h )\n",
    "    g = np.zeros_like( h )\n",
    "    b = np.zeros_like( h )\n",
    "    #  0<= H < 60\n",
    "    r[(h>=0.0) & (h<60.0)] = C[(h>=0.0) & (h<60.0)]\n",
    "    g[(h>=0.0) & (h<60.0)] = X[(h>=0.0) & (h<60.0)]\n",
    "    # b[(h>=0) & h(<60.0)] = 0\n",
    "    # 60 <= H <120\n",
    "    r[(h>=60.0) & (h<120.0)] = X[(h>=60.0) & (h<120.0)]\n",
    "    g[(h>=60.0) & (h<120.0)] = C[(h>=60.0) & (h<120.0)]\n",
    "    # 120 <= H < 180\n",
    "    g[(h>=120.0) & (h<180.0)] = C[(h>=120.0) & (h<180.0)]\n",
    "    b[(h>=120.0) & (h<180.0)] = X[(h>=120.0) & (h<180.0)]\n",
    "    # 180 <= H < 240 \n",
    "    g[(h>=180.0) & (h<240.0)] = X[(h>=180.0) & (h<240.0)]\n",
    "    b[(h>=180.0) & (h<240.0)] = C[(h>=180.0) & (h<240.0)]\n",
    "    # 240 <= H < 300\n",
    "    r[(h>=240.0) & (h<300.0)] = X[(h>=240.0) & (h<300.0)]\n",
    "    b[(h>=240.0) & (h<300.0)] = C[(h>=240.0) & (h<300.0)]\n",
    "    # 300 <= H <360\n",
    "    r[(h>=300.0) & (h<360.0)] = C[(h>=300.0) & (h<360.0)]\n",
    "    b[(h>=300.0) & (h<360.0)] = X[(h>=300.0) & (h<360.0)]\n",
    "    r = r + m\n",
    "    g= g + m\n",
    "    b = b + m\n",
    "    # ustvari izhodno sliko\n",
    "    oImage = np.zeros_like(iImage)\n",
    "    oImage[:,:,0] = r\n",
    "    oImage[:,:,1] = g\n",
    "    oImage[:,:,2] = b\n",
    "    # zaokrozevanje vrednsti\n",
    "    oImage = 255.0 * oImage\n",
    "    oImage[oImage>255.0]  = 255.0\n",
    "    oImage[oImage<0.0] = 0.0\n",
    "    oImage = oImage.astype('uint8')\n",
    "    return oImage\n",
    "\n",
    "def gammaImage(iImage, iGamma):\n",
    "    #Your Code here\n",
    "    #oImage = 255 ** (1 - iGamma) * iImage ** iGamma\n",
    "    dtype = iImage.dtype\n",
    "    iImage = iImage.astype('float')\n",
    "    if dtype.kind in ('i', 'u'):\n",
    "        iRange = np.iinfo(dtype).max - np.iinfo(dtype).min\n",
    "    else:\n",
    "        iRange = iImage.max() - iImage.min()\n",
    "    iImage = (iImage - iImage.min()) / iRange\n",
    "    oImage = iImage ** iGamma\n",
    "    oImage = oImage * iRange + iImage.min()\n",
    "    return oImage\n",
    "\n",
    "# Implementirajte funkcijo\n",
    "def calculate_gamma_image(image, gamma):\n",
    "    image_hsv = convertRGB2HSV(image)\n",
    "    #image_hsv = cv2.cvtColor(image, cv2.COLOR_RGB2HSV)\n",
    "    v = image_hsv[:,:,2]\n",
    "    v_gamma = gammaImage(v, iGamma=gamma)\n",
    "    gamma_image_hsv = image_hsv\n",
    "    gamma_image_hsv[:,:,2] = v_gamma\n",
    "    gamma_image = convertHSV2RGB(gamma_image_hsv)\n",
    "    return gamma_image"
   ]
  },
  {
   "cell_type": "code",
   "execution_count": null,
   "metadata": {
    "deletable": false,
    "nbgrader": {
     "checksum": "fe1dfd210d0e19b2d1a787eb6c252b04",
     "grade": true,
     "grade_id": "cell-4d48792af2056cb4",
     "locked": false,
     "points": 1,
     "schema_version": 1,
     "solution": true
    }
   },
   "outputs": [],
   "source": [
    "image = Image.open(\"./data/slika.jpg\")\n",
    "slika_gamma_05 = gammaImage(image, iGamma=0.5)\n",
    "slika_gamma_2 = gammaImage(image, iGamma=2)\n",
    "showImage(slika_gamma_05, iTitle='gamma = 0.5')\n",
    "showImage(slika_gamma_2, iTitle='gamma = 2')"
   ]
  },
  {
   "cell_type": "code",
   "execution_count": null,
   "metadata": {},
   "outputs": [],
   "source": []
  },
  {
   "cell_type": "markdown",
   "metadata": {
    "deletable": false,
    "editable": false,
    "nbgrader": {
     "checksum": "ad7afa546f7cc0befa6e18002f7832f1",
     "grade": false,
     "grade_id": "cell-b483a9fb2ac8a9d3",
     "locked": true,
     "schema_version": 1,
     "solution": false
    }
   },
   "source": [
    "    C. Ali ima tak način gama preslikave barvne slike enak vpliv na kontrast kot v primeru sivinske slike?"
   ]
  },
  {
   "cell_type": "markdown",
   "metadata": {
    "deletable": false,
    "nbgrader": {
     "checksum": "932b459d6afbdc5bce374b017da2fed0",
     "grade": true,
     "grade_id": "cell-67388a2f8a58d6ef",
     "locked": false,
     "points": 1,
     "schema_version": 1,
     "solution": true
    }
   },
   "source": [
    "Ja, saj V komponenta, nad katero izvajamo preslikavo, predstavlja svetlost posamezne barve."
   ]
  },
  {
   "cell_type": "markdown",
   "metadata": {
    "deletable": false,
    "editable": false,
    "nbgrader": {
     "checksum": "b806435e1882343b0186c1a48f9473a9",
     "grade": false,
     "grade_id": "cell-97a2d0c3bd62672e",
     "locked": true,
     "schema_version": 1,
     "solution": false
    }
   },
   "source": [
    "5. 1. Napišite funkcijo za preslikavo barvne slike v sivinsko sliko tako, da v HSV barvnem prostoru komponento barvnega nasičenja postavite na 0. \n",
    "   2. Prikažite pridobljeno sivinsko sliko."
   ]
  },
  {
   "cell_type": "code",
   "execution_count": null,
   "metadata": {
    "deletable": false,
    "nbgrader": {
     "checksum": "9c5840240f87028bd82bc3983fb64330",
     "grade": true,
     "grade_id": "cell-13075d10068225a2",
     "locked": false,
     "points": 1,
     "schema_version": 1,
     "solution": true
    }
   },
   "outputs": [],
   "source": [
    "# Implementirajte funkcijo\n",
    "def convert_to_gray_hsv(image):\n",
    "    #your code here\n",
    "    image_hsv = convertRGB2HSV(image)\n",
    "    oImage = np.copy(image_hsv)\n",
    "    oImage[:, :, 1] = 0\n",
    "    return oImage"
   ]
  },
  {
   "cell_type": "code",
   "execution_count": null,
   "metadata": {
    "deletable": false,
    "nbgrader": {
     "checksum": "175758817a232cd86f8484bd2ef6e55c",
     "grade": true,
     "grade_id": "cell-91f3175013425827",
     "locked": false,
     "points": 1,
     "schema_version": 1,
     "solution": true
    }
   },
   "outputs": [],
   "source": [
    "image = Image.open(\"./data/slika.jpg\")\n",
    "image_gray_hsv = convert_to_gray_hsv(image)\n",
    "showImage(image_gray_hsv)"
   ]
  },
  {
   "cell_type": "markdown",
   "metadata": {
    "deletable": false,
    "editable": false,
    "nbgrader": {
     "checksum": "baf274e2067325c2837a9dc5e52e2824",
     "grade": false,
     "grade_id": "cell-f7577fbce4d22549",
     "locked": true,
     "schema_version": 1,
     "solution": false
    }
   },
   "source": [
    "6. Potrdite, da v barvni sliki \"./data/slika.jpg\" prevladuje modra barva tako, da izračunate in izpišete razmerje med številom pikslov, ki predstavljajo modre odtenke, in številom vseh pikslov na sliki. Za modre odtenke vzemite piksle katerih vrednost H komponente je na območju $240 \\pm 30$ stopinj."
   ]
  },
  {
   "cell_type": "code",
   "execution_count": null,
   "metadata": {
    "deletable": false,
    "nbgrader": {
     "checksum": "6709c71fc4403dbf9286950be5f6dde8",
     "grade": true,
     "grade_id": "cell-606b8a3504c52816",
     "locked": false,
     "points": 1,
     "schema_version": 1,
     "solution": true
    }
   },
   "outputs": [],
   "source": [
    "#import cv2\n",
    "\n",
    "image = Image.open(\"./data/slika.jpg\")\n",
    "image = np.array(image)\n",
    "#image_hsv = cv2.cvtColor(image, cv2.COLOR_RGB2HSV)\n",
    "image_hsv = convertRGB2HSV(image)\n",
    "h_component = image_hsv[:, :, 0]\n",
    "blue_px = 0\n",
    "all_px = image_hsv.shape[0] * image_hsv.shape[1]\n",
    "[h_component] = np.reshape(h_component, [1, all_px])\n",
    "for i in h_component:\n",
    "    if (i >= 210 and i <= 270):\n",
    "        blue_px += 1\n",
    "print(blue_px / all_px)"
   ]
  },
  {
   "cell_type": "code",
   "execution_count": null,
   "metadata": {},
   "outputs": [],
   "source": []
  }
 ],
 "metadata": {
  "kernelspec": {
   "display_name": "Python 3",
   "language": "python",
   "name": "python3"
  },
  "language_info": {
   "codemirror_mode": {
    "name": "ipython",
    "version": 3
   },
   "file_extension": ".py",
   "mimetype": "text/x-python",
   "name": "python",
   "nbconvert_exporter": "python",
   "pygments_lexer": "ipython3",
   "version": "3.10.10"
  }
 },
 "nbformat": 4,
 "nbformat_minor": 2
}
